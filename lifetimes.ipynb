{
 "cells": [
  {
   "cell_type": "markdown",
   "id": "cc88e14f",
   "metadata": {},
   "source": [
    "# ocaml-alloc-stats lifetimes\n",
    "\n",
    "This notebook allows you to read a \".ctf\" common trace format file containing a memtrace trace\n",
    "of allocations from which you can plot some histograms, and perform some simple statistical analysis.\n",
    "\n",
    "Sample ctf files are uploaded to a shared google drive folder here: https://drive.google.com/drive/folders/1ce5LJ7vEgnaPVgtgUeJ23jHG9vp4K50k?usp=share_link\n",
    "\n",
    "In the cell below you can specify the ctf file you wish to work with. The file `irmin-replay.ctf` should be present in the git repo and serves as a good example.\n"
   ]
  },
  {
   "cell_type": "code",
   "execution_count": 41,
   "id": "f643edfd",
   "metadata": {},
   "outputs": [],
   "source": [
    "ctf_file = \"irmin-replay.ctf\"\n",
    "\n",
    "# The following flag controls whether we discard allocations that don't survive the minor \n",
    "# heap. These allocations are almost free, so it usually makes sense to discard them when\n",
    "# focusing on the behaviour of the major heap allocator. FIXME TODO\n",
    "ignore_minor_only_allocations = True\n",
    "\n",
    "debug=False # include debug output?"
   ]
  },
  {
   "cell_type": "markdown",
   "id": "c8de52b6",
   "metadata": {},
   "source": [
    "Check that the ctf and executables are present."
   ]
  },
  {
   "cell_type": "code",
   "execution_count": 42,
   "id": "42c556f0",
   "metadata": {},
   "outputs": [
    {
     "name": "stdout",
     "output_type": "stream",
     "text": [
      "OK, files are present: ./dump_trace.exe irmin-replay.ctf\n"
     ]
    }
   ],
   "source": [
    "# from https://data36.com/plot-histogram-python-pandas/\n",
    "import numpy as np\n",
    "import matplotlib.pyplot as plt\n",
    "import pandas as pd\n",
    "import seaborn as sns\n",
    "%matplotlib inline\n",
    "\n",
    "import csv # reading CSV format trace files\n",
    "import subprocess # for calling ocaml executables\n",
    "import math \n",
    "import os.path\n",
    "import json\n",
    "import collections\n",
    "\n",
    "\n",
    "# check that a file we rely on is present\n",
    "def file_exists(name):\n",
    "    return os.path.exists(name)\n",
    "\n",
    "dump_exe = \"./dump_trace.exe\"\n",
    "\n",
    "assert file_exists(dump_exe)\n",
    "assert file_exists(ctf_file)\n",
    "print(\"OK, files are present:\", dump_exe, ctf_file)"
   ]
  },
  {
   "cell_type": "markdown",
   "id": "35178302",
   "metadata": {},
   "source": [
    "Run the executable, store results in a temporary file, and return the name of the temporary file. An alternative would be to read the .ctf directly in Python, but according to \n",
    "https://babeltrace.org/docs/v2.0/python/bt2/ the Python API is undocumented (although \n",
    "probably not too hard to figure out if the current approach is deemed too ugly)."
   ]
  },
  {
   "cell_type": "code",
   "execution_count": 43,
   "id": "1ef99210",
   "metadata": {},
   "outputs": [
    {
     "name": "stdout",
     "output_type": "stream",
     "text": [
      "NOTE converted ctf placed in file irmin-replay.ctf.dump\n"
     ]
    }
   ],
   "source": [
    "def convert_ctf_to_dump(filename):\n",
    "    # translate to lookahead format\n",
    "    outfile1 = filename+\".dump\"\n",
    "    subprocess.run([dump_exe,ctf_file,outfile1],check=True)\n",
    "    return outfile1\n",
    "\n",
    "the_ctf_dump = convert_ctf_to_dump(ctf_file)\n",
    "\n",
    "print(\"NOTE converted ctf placed in file \"+the_ctf_dump)"
   ]
  },
  {
   "cell_type": "code",
   "execution_count": 54,
   "id": "f2fc0754",
   "metadata": {},
   "outputs": [
    {
     "name": "stdout",
     "output_type": "stream",
     "text": [
      "Read 1477 events\n"
     ]
    }
   ],
   "source": [
    "# now we can read the dumped file as plain csv\n",
    "\n",
    "if ignore_minor_only_allocations: \n",
    "    if debug: print(\"NOTE we are ignoring minor-only allocations\")\n",
    "else: \n",
    "    if debug: print(\"NOTE we are including minor-only allocations\")\n",
    "\n",
    "# read dump, retain all info, return as list\n",
    "def read_dump(fn):\n",
    "    xs = []\n",
    "    with open(fn) as csvfile:\n",
    "        reader = csv.reader(csvfile, delimiter=' ')\n",
    "        for row in reader:\n",
    "            id = row[1]\n",
    "            entry_type = row[2]\n",
    "            assert (entry_type in [\"A\",\"a\",\"AE\",\"P\",\"C\"])\n",
    "            entry = {}\n",
    "            if entry_type in [\"A\",\"a\",\"AE\"]:\n",
    "                sz = int(row[3])\n",
    "                time = int(row[0])\n",
    "                entry={'id':id,'type':entry_type,'sz':sz,'time':time}\n",
    "            else: entry={'id':id,'type':entry_type,'time':time}\n",
    "            xs.append(entry)\n",
    "    return xs\n",
    "\n",
    "the_raw_trace = read_dump(the_ctf_dump)\n",
    "# print(the_raw_trace[0:10])\n",
    "\n",
    "assert ignore_minor_only_allocations\n",
    "\n",
    "# remove allocs that never make it out of the minor heap (they are mostly noise); \n",
    "# remove promotes; keep collects for major allocs\n",
    "def remove_minor_allocs(trace):\n",
    "    res = [] # result trace\n",
    "    in_minor = {} # dict of (id -> size) of allocs currently in the minor heap\n",
    "    for x in trace:\n",
    "        id = x['id']\n",
    "        if x['type'] == \"a\":\n",
    "            in_minor[id] = x['sz']\n",
    "        if x['type'] == \"A\" or x['type'] == \"AE\":\n",
    "            res.append(x)\n",
    "        if x['type'] == \"C\":\n",
    "            if id in in_minor.keys(): pass # drop event\n",
    "            else: res.append(x) # otherwise add to result                \n",
    "        if x['type'] == \"P\":\n",
    "            sz = in_minor[id]\n",
    "            # convert to a major alloc at time of promote            \n",
    "            del in_minor[id]\n",
    "            # NOTE in the following the time is taken to be the time of the promote event\n",
    "            res.append({'id':id,'type':\"A\",'sz':sz,'time':x['time']})\n",
    "    return res\n",
    "        \n",
    "the_trace = remove_minor_allocs(the_raw_trace)\n",
    "\n",
    "# at this point we have alloc and collect events; we can use this to examine lifetimes\n",
    "\n",
    "# print(the_trace[0:10])\n",
    "print(\"Read\",len(the_trace),\"events\")"
   ]
  },
  {
   "cell_type": "code",
   "execution_count": 55,
   "id": "1a09d247",
   "metadata": {},
   "outputs": [
    {
     "name": "stdout",
     "output_type": "stream",
     "text": [
      "Number of allocs that survived to end of run: 1\n",
      "Max lifetime: 467\n"
     ]
    }
   ],
   "source": [
    "# NOTE the time here is not wall time; instead each alloc event constitutes a clock tick\n",
    "def lifetimes(trace):\n",
    "    alloc_time = {} # map id to index in trace at which the alloc occurred\n",
    "    lifetimes = {} # when we see a collect event, record id -> lifetime \n",
    "    time = 0\n",
    "    for x in trace:\n",
    "        time = time + 1\n",
    "        ty = x['type']\n",
    "        id = x['id']\n",
    "        assert ty == \"A\" or ty == \"AE\" or ty == \"C\"\n",
    "        if ty == \"A\" or ty == \"AE\":\n",
    "            alloc_time[id] = time\n",
    "        elif ty == \"C\":\n",
    "            lifetimes[id] = time - alloc_time[id]\n",
    "            del alloc_time[id]\n",
    "    # the remaining entries in alloc_time survived to end of run\n",
    "    print(\"Number of allocs that survived to end of run:\",len(alloc_time))\n",
    "    time = time + 1\n",
    "    for id in alloc_time.keys():\n",
    "        lifetimes[id] = time - alloc_time[id]\n",
    "    return lifetimes\n",
    "\n",
    "the_lifetimes = lifetimes(the_trace)\n",
    "xs = sorted(the_lifetimes.items())\n",
    "ys = list(map(lambda x: x[1], xs))\n",
    "print(\"Max lifetime:\", max(ys))\n",
    "if debug: ys"
   ]
  },
  {
   "cell_type": "code",
   "execution_count": 56,
   "id": "1f399298",
   "metadata": {},
   "outputs": [],
   "source": [
    "if debug: the_trace"
   ]
  },
  {
   "cell_type": "code",
   "execution_count": 57,
   "id": "941ec5eb",
   "metadata": {},
   "outputs": [
    {
     "data": {
      "text/plain": [
       "(array([ 0., 56., 83., 54., 20., 18., 29., 16.,  6., 17., 19., 23., 12.,\n",
       "        28., 14., 24., 26., 19., 31., 29.,  6., 26., 22.,  7.,  4.,  5.,\n",
       "         9.,  4.,  6.,  6.,  5., 12.]),\n",
       " array([ 0.,  1.,  2.,  3.,  4.,  5.,  6.,  7.,  8.,  9., 10., 11., 12.,\n",
       "        13., 14., 15., 16., 17., 18., 19., 20., 21., 22., 23., 24., 25.,\n",
       "        26., 27., 28., 29., 30., 31., 32.]),\n",
       " <BarContainer object of 32 artists>)"
      ]
     },
     "execution_count": 57,
     "metadata": {},
     "output_type": "execute_result"
    },
    {
     "data": {
      "image/png": "[encoded data removed]",
      "text/plain": [
       "<Figure size 640x480 with 1 Axes>"
      ]
     },
     "metadata": {},
     "output_type": "display_data"
    }
   ],
   "source": [
    "plt.hist(np.array(ys),range=(0,32),bins=32) "
   ]
  },
  {
   "cell_type": "code",
   "execution_count": 62,
   "id": "2046dd49",
   "metadata": {},
   "outputs": [
    {
     "name": "stdout",
     "output_type": "stream",
     "text": [
      "Number of allocs that survived to end of run: 1\n",
      "Max lifetime: 13745183\n"
     ]
    }
   ],
   "source": [
    "# lifetimes based on timestamps\n",
    "def lifetimes_ts(trace):\n",
    "    alloc_time = {} # map id to time alloc occurred\n",
    "    lifetimes = {} # when we see a collect event, record id -> lifetime \n",
    "    for x in trace:\n",
    "        ty = x['type']\n",
    "        id = x['id']\n",
    "        assert ty == \"A\" or ty == \"AE\" or ty == \"C\"\n",
    "        if ty == \"A\" or ty == \"AE\":\n",
    "            alloc_time[id] = x['time']\n",
    "        elif ty == \"C\":\n",
    "            lifetimes[id] = x['time'] - alloc_time[id]\n",
    "            del alloc_time[id]\n",
    "    # the remaining entries in alloc_time survived to end of run\n",
    "    print(\"Number of allocs that survived to end of run:\",len(alloc_time))\n",
    "    max_time = max(map(lambda x: x['time'],trace))\n",
    "    for id in alloc_time.keys():\n",
    "        lifetimes[id] = max_time - alloc_time[id]\n",
    "    return lifetimes\n",
    "\n",
    "the_lifetimes_ts = lifetimes_ts(the_trace)\n",
    "\n",
    "xs = sorted(the_lifetimes_ts.items())\n",
    "ys = list(map(lambda x: x[1], xs))\n",
    "print(\"Max lifetime:\", max(ys))\n",
    "if debug: ys"
   ]
  },
  {
   "cell_type": "code",
   "execution_count": 66,
   "id": "51eae6e8",
   "metadata": {},
   "outputs": [
    {
     "data": {
      "text/plain": [
       "(array([251.,  85., 108.,  84.,  77.,  24.,  14.,   9.,   9.,   4.,   2.,\n",
       "          4.,   4.,   2.,   3.,  14.,   3.,   3.,   6.,   4.,   6.,   1.,\n",
       "          4.,   2.,   3.,   1.,   2.,   2.,   2.,   0.,   0.,   2.,   0.,\n",
       "          0.,   0.,   0.,   0.,   0.,   0.,   0.,   0.,   0.,   0.,   0.,\n",
       "          0.,   0.,   0.,   0.,   0.,   0.,   0.,   0.,   0.,   0.,   0.,\n",
       "          0.,   0.,   0.,   1.,   0.,   0.,   0.,   0.,   0.,   0.,   0.,\n",
       "          0.,   0.,   0.,   0.,   0.,   1.,   0.,   0.,   0.,   0.,   0.,\n",
       "          0.,   0.,   0.,   0.,   0.,   0.,   0.,   0.,   0.,   0.,   0.,\n",
       "          0.,   0.,   0.,   0.,   0.,   0.,   0.,   0.,   0.,   0.,   0.,\n",
       "          2.]),\n",
       " array([       0.  ,   137451.83,   274903.66,   412355.49,   549807.32,\n",
       "          687259.15,   824710.98,   962162.81,  1099614.64,  1237066.47,\n",
       "         1374518.3 ,  1511970.13,  1649421.96,  1786873.79,  1924325.62,\n",
       "         2061777.45,  2199229.28,  2336681.11,  2474132.94,  2611584.77,\n",
       "         2749036.6 ,  2886488.43,  3023940.26,  3161392.09,  3298843.92,\n",
       "         3436295.75,  3573747.58,  3711199.41,  3848651.24,  3986103.07,\n",
       "         4123554.9 ,  4261006.73,  4398458.56,  4535910.39,  4673362.22,\n",
       "         4810814.05,  4948265.88,  5085717.71,  5223169.54,  5360621.37,\n",
       "         5498073.2 ,  5635525.03,  5772976.86,  5910428.69,  6047880.52,\n",
       "         6185332.35,  6322784.18,  6460236.01,  6597687.84,  6735139.67,\n",
       "         6872591.5 ,  7010043.33,  7147495.16,  7284946.99,  7422398.82,\n",
       "         7559850.65,  7697302.48,  7834754.31,  7972206.14,  8109657.97,\n",
       "         8247109.8 ,  8384561.63,  8522013.46,  8659465.29,  8796917.12,\n",
       "         8934368.95,  9071820.78,  9209272.61,  9346724.44,  9484176.27,\n",
       "         9621628.1 ,  9759079.93,  9896531.76, 10033983.59, 10171435.42,\n",
       "        10308887.25, 10446339.08, 10583790.91, 10721242.74, 10858694.57,\n",
       "        10996146.4 , 11133598.23, 11271050.06, 11408501.89, 11545953.72,\n",
       "        11683405.55, 11820857.38, 11958309.21, 12095761.04, 12233212.87,\n",
       "        12370664.7 , 12508116.53, 12645568.36, 12783020.19, 12920472.02,\n",
       "        13057923.85, 13195375.68, 13332827.51, 13470279.34, 13607731.17,\n",
       "        13745183.  ]),\n",
       " <BarContainer object of 100 artists>)"
      ]
     },
     "execution_count": 66,
     "metadata": {},
     "output_type": "execute_result"
    },
    {
     "data": {
      "image/png": "[encoded data removed]",
      "text/plain": [
       "<Figure size 640x480 with 1 Axes>"
      ]
     },
     "metadata": {},
     "output_type": "display_data"
    }
   ],
   "source": [
    "plt.hist(np.array(ys),bins=100) "
   ]
  }
 ],
 "metadata": {
  "kernelspec": {
   "display_name": "Python 3 (ipykernel)",
   "language": "python",
   "name": "python3"
  },
  "language_info": {
   "codemirror_mode": {
    "name": "ipython",
    "version": 3
   },
   "file_extension": ".py",
   "mimetype": "text/x-python",
   "name": "python",
   "nbconvert_exporter": "python",
   "pygments_lexer": "ipython3",
   "version": "3.8.10"
  }
 },
 "nbformat": 4,
 "nbformat_minor": 5
}
