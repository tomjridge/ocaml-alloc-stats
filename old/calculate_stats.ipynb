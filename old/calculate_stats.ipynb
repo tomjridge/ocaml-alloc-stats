{
 "cells": [
  {
   "cell_type": "code",
   "execution_count": 11,
   "id": "42c556f0",
   "metadata": {},
   "outputs": [],
   "source": [
    "# from https://data36.com/plot-histogram-python-pandas/\n",
    "\n",
    "import numpy as np\n",
    "import pandas as pd\n",
    "import seaborn as sns\n",
    "%matplotlib inline\n"
   ]
  },
  {
   "cell_type": "code",
   "execution_count": 3,
   "id": "f2fc0754",
   "metadata": {},
   "outputs": [],
   "source": [
    "mu = 168 #mean\n",
    "sigma = 5 #stddev\n",
    "sample = 250\n",
    "np.random.seed(0)\n",
    "height_f = np.random.normal(mu, sigma, sample).astype(int)\n",
    "\n",
    "mu = 176 #mean\n",
    "sigma = 6 #stddev\n",
    "sample = 250\n",
    "np.random.seed(1)\n",
    "height_m = np.random.normal(mu, sigma, sample).astype(int)"
   ]
  },
  {
   "cell_type": "code",
   "execution_count": 4,
   "id": "afd0218d",
   "metadata": {},
   "outputs": [
    {
     "data": {
      "text/plain": [
       "array([176, 170, 172, 179, 177, 163, 172, 167, 167, 170, 168, 175, 171,\n",
       "       168, 170, 169, 175, 166, 169, 163, 155, 171, 172, 164, 179, 160,\n",
       "       168, 167, 175, 175, 168, 169, 163, 158, 166, 168, 174, 174, 166,\n",
       "       166, 162, 160, 159, 177, 165, 165, 161, 171, 159, 166, 163, 169,\n",
       "       165, 162, 167, 170, 168, 169, 164, 166, 164, 166, 163, 159, 168,\n",
       "       165, 159, 170, 163, 168, 171, 168, 173, 161, 170, 164, 163, 165,\n",
       "       166, 168, 162, 172, 170, 160, 175, 177, 173, 167, 162, 173, 165,\n",
       "       174, 169, 172, 169, 171, 168, 176, 168, 170, 177, 161, 161, 172,\n",
       "       162, 177, 165, 164, 177, 175, 177, 172, 163, 177, 166, 172, 172,\n",
       "       167, 171, 172, 169, 162, 169, 174, 164, 167, 165, 177, 171, 170,\n",
       "       164, 170, 164, 168, 164, 171, 170, 166, 169, 162, 160, 170, 168,\n",
       "       171, 179, 172, 163, 173, 161, 165, 167, 176, 164, 163, 167, 164,\n",
       "       173, 162, 162, 165, 165, 177, 172, 168, 161, 172, 162, 160, 173,\n",
       "       169, 172, 169, 172, 164, 162, 171, 163, 164, 165, 168, 166, 161,\n",
       "       164, 156, 171, 159, 162, 168, 164, 175, 161, 169, 167, 162, 170,\n",
       "       167, 171, 172, 178, 174, 166, 166, 173, 171, 171, 159, 167, 164,\n",
       "       169, 167, 172, 169, 171, 165, 163, 165, 167, 169, 179, 167, 163,\n",
       "       166, 165, 170, 160, 168, 168, 169, 165, 166, 160, 165, 165, 170,\n",
       "       162, 171, 175, 157, 170, 171, 164, 166, 167, 166, 166, 159, 173,\n",
       "       173, 163, 160])"
      ]
     },
     "execution_count": 4,
     "metadata": {},
     "output_type": "execute_result"
    }
   ],
   "source": [
    "height_f"
   ]
  },
  {
   "cell_type": "code",
   "execution_count": 5,
   "id": "b6ca34d7",
   "metadata": {},
   "outputs": [],
   "source": [
    "gym = pd.DataFrame({'height_f': height_f, 'height_m': height_m})"
   ]
  },
  {
   "cell_type": "code",
   "execution_count": 6,
   "id": "1676f7d9",
   "metadata": {},
   "outputs": [
    {
     "data": {
      "text/html": [
       "<div>\n",
       "<style scoped>\n",
       "    .dataframe tbody tr th:only-of-type {\n",
       "        vertical-align: middle;\n",
       "    }\n",
       "\n",
       "    .dataframe tbody tr th {\n",
       "        vertical-align: top;\n",
       "    }\n",
       "\n",
       "    .dataframe thead th {\n",
       "        text-align: right;\n",
       "    }\n",
       "</style>\n",
       "<table border=\"1\" class=\"dataframe\">\n",
       "  <thead>\n",
       "    <tr style=\"text-align: right;\">\n",
       "      <th></th>\n",
       "      <th>height_f</th>\n",
       "      <th>height_m</th>\n",
       "    </tr>\n",
       "  </thead>\n",
       "  <tbody>\n",
       "    <tr>\n",
       "      <th>0</th>\n",
       "      <td>176</td>\n",
       "      <td>185</td>\n",
       "    </tr>\n",
       "    <tr>\n",
       "      <th>1</th>\n",
       "      <td>170</td>\n",
       "      <td>172</td>\n",
       "    </tr>\n",
       "    <tr>\n",
       "      <th>2</th>\n",
       "      <td>172</td>\n",
       "      <td>172</td>\n",
       "    </tr>\n",
       "    <tr>\n",
       "      <th>3</th>\n",
       "      <td>179</td>\n",
       "      <td>169</td>\n",
       "    </tr>\n",
       "    <tr>\n",
       "      <th>4</th>\n",
       "      <td>177</td>\n",
       "      <td>181</td>\n",
       "    </tr>\n",
       "    <tr>\n",
       "      <th>...</th>\n",
       "      <td>...</td>\n",
       "      <td>...</td>\n",
       "    </tr>\n",
       "    <tr>\n",
       "      <th>245</th>\n",
       "      <td>159</td>\n",
       "      <td>180</td>\n",
       "    </tr>\n",
       "    <tr>\n",
       "      <th>246</th>\n",
       "      <td>173</td>\n",
       "      <td>179</td>\n",
       "    </tr>\n",
       "    <tr>\n",
       "      <th>247</th>\n",
       "      <td>173</td>\n",
       "      <td>173</td>\n",
       "    </tr>\n",
       "    <tr>\n",
       "      <th>248</th>\n",
       "      <td>163</td>\n",
       "      <td>186</td>\n",
       "    </tr>\n",
       "    <tr>\n",
       "      <th>249</th>\n",
       "      <td>160</td>\n",
       "      <td>168</td>\n",
       "    </tr>\n",
       "  </tbody>\n",
       "</table>\n",
       "<p>250 rows × 2 columns</p>\n",
       "</div>"
      ],
      "text/plain": [
       "     height_f  height_m\n",
       "0         176       185\n",
       "1         170       172\n",
       "2         172       172\n",
       "3         179       169\n",
       "4         177       181\n",
       "..        ...       ...\n",
       "245       159       180\n",
       "246       173       179\n",
       "247       173       173\n",
       "248       163       186\n",
       "249       160       168\n",
       "\n",
       "[250 rows x 2 columns]"
      ]
     },
     "execution_count": 6,
     "metadata": {},
     "output_type": "execute_result"
    }
   ],
   "source": [
    "gym"
   ]
  },
  {
   "cell_type": "code",
   "execution_count": 7,
   "id": "d9b81408",
   "metadata": {},
   "outputs": [
    {
     "data": {
      "text/html": [
       "<div>\n",
       "<style scoped>\n",
       "    .dataframe tbody tr th:only-of-type {\n",
       "        vertical-align: middle;\n",
       "    }\n",
       "\n",
       "    .dataframe tbody tr th {\n",
       "        vertical-align: top;\n",
       "    }\n",
       "\n",
       "    .dataframe thead th {\n",
       "        text-align: right;\n",
       "    }\n",
       "</style>\n",
       "<table border=\"1\" class=\"dataframe\">\n",
       "  <thead>\n",
       "    <tr style=\"text-align: right;\">\n",
       "      <th></th>\n",
       "      <th>height_f</th>\n",
       "    </tr>\n",
       "    <tr>\n",
       "      <th>height_m</th>\n",
       "      <th></th>\n",
       "    </tr>\n",
       "  </thead>\n",
       "  <tbody>\n",
       "    <tr>\n",
       "      <th>161</th>\n",
       "      <td>1</td>\n",
       "    </tr>\n",
       "    <tr>\n",
       "      <th>162</th>\n",
       "      <td>1</td>\n",
       "    </tr>\n",
       "    <tr>\n",
       "      <th>163</th>\n",
       "      <td>2</td>\n",
       "    </tr>\n",
       "    <tr>\n",
       "      <th>164</th>\n",
       "      <td>2</td>\n",
       "    </tr>\n",
       "    <tr>\n",
       "      <th>165</th>\n",
       "      <td>2</td>\n",
       "    </tr>\n",
       "    <tr>\n",
       "      <th>166</th>\n",
       "      <td>3</td>\n",
       "    </tr>\n",
       "    <tr>\n",
       "      <th>167</th>\n",
       "      <td>5</td>\n",
       "    </tr>\n",
       "    <tr>\n",
       "      <th>168</th>\n",
       "      <td>10</td>\n",
       "    </tr>\n",
       "    <tr>\n",
       "      <th>169</th>\n",
       "      <td>9</td>\n",
       "    </tr>\n",
       "    <tr>\n",
       "      <th>170</th>\n",
       "      <td>9</td>\n",
       "    </tr>\n",
       "    <tr>\n",
       "      <th>171</th>\n",
       "      <td>10</td>\n",
       "    </tr>\n",
       "    <tr>\n",
       "      <th>172</th>\n",
       "      <td>15</td>\n",
       "    </tr>\n",
       "    <tr>\n",
       "      <th>173</th>\n",
       "      <td>11</td>\n",
       "    </tr>\n",
       "    <tr>\n",
       "      <th>174</th>\n",
       "      <td>24</td>\n",
       "    </tr>\n",
       "    <tr>\n",
       "      <th>175</th>\n",
       "      <td>13</td>\n",
       "    </tr>\n",
       "    <tr>\n",
       "      <th>176</th>\n",
       "      <td>16</td>\n",
       "    </tr>\n",
       "    <tr>\n",
       "      <th>177</th>\n",
       "      <td>20</td>\n",
       "    </tr>\n",
       "    <tr>\n",
       "      <th>178</th>\n",
       "      <td>12</td>\n",
       "    </tr>\n",
       "    <tr>\n",
       "      <th>179</th>\n",
       "      <td>19</td>\n",
       "    </tr>\n",
       "    <tr>\n",
       "      <th>180</th>\n",
       "      <td>14</td>\n",
       "    </tr>\n",
       "    <tr>\n",
       "      <th>181</th>\n",
       "      <td>13</td>\n",
       "    </tr>\n",
       "    <tr>\n",
       "      <th>182</th>\n",
       "      <td>10</td>\n",
       "    </tr>\n",
       "    <tr>\n",
       "      <th>183</th>\n",
       "      <td>7</td>\n",
       "    </tr>\n",
       "    <tr>\n",
       "      <th>184</th>\n",
       "      <td>2</td>\n",
       "    </tr>\n",
       "    <tr>\n",
       "      <th>185</th>\n",
       "      <td>6</td>\n",
       "    </tr>\n",
       "    <tr>\n",
       "      <th>186</th>\n",
       "      <td>4</td>\n",
       "    </tr>\n",
       "    <tr>\n",
       "      <th>187</th>\n",
       "      <td>4</td>\n",
       "    </tr>\n",
       "    <tr>\n",
       "      <th>188</th>\n",
       "      <td>1</td>\n",
       "    </tr>\n",
       "    <tr>\n",
       "      <th>189</th>\n",
       "      <td>3</td>\n",
       "    </tr>\n",
       "    <tr>\n",
       "      <th>190</th>\n",
       "      <td>1</td>\n",
       "    </tr>\n",
       "    <tr>\n",
       "      <th>191</th>\n",
       "      <td>1</td>\n",
       "    </tr>\n",
       "  </tbody>\n",
       "</table>\n",
       "</div>"
      ],
      "text/plain": [
       "          height_f\n",
       "height_m          \n",
       "161              1\n",
       "162              1\n",
       "163              2\n",
       "164              2\n",
       "165              2\n",
       "166              3\n",
       "167              5\n",
       "168             10\n",
       "169              9\n",
       "170              9\n",
       "171             10\n",
       "172             15\n",
       "173             11\n",
       "174             24\n",
       "175             13\n",
       "176             16\n",
       "177             20\n",
       "178             12\n",
       "179             19\n",
       "180             14\n",
       "181             13\n",
       "182             10\n",
       "183              7\n",
       "184              2\n",
       "185              6\n",
       "186              4\n",
       "187              4\n",
       "188              1\n",
       "189              3\n",
       "190              1\n",
       "191              1"
      ]
     },
     "execution_count": 7,
     "metadata": {},
     "output_type": "execute_result"
    }
   ],
   "source": [
    "gym.groupby('height_m').count()"
   ]
  },
  {
   "cell_type": "code",
   "execution_count": 8,
   "id": "28a3a3fd",
   "metadata": {},
   "outputs": [
    {
     "data": {
      "text/plain": [
       "<AxesSubplot: xlabel='height_m'>"
      ]
     },
     "execution_count": 8,
     "metadata": {},
     "output_type": "execute_result"
    },
    {
     "data": {
      "image/png": "[encoded data removed]",
      "text/plain": [
       "<Figure size 640x480 with 1 Axes>"
      ]
     },
     "metadata": {},
     "output_type": "display_data"
    }
   ],
   "source": [
    "gym.groupby('height_m').count().plot()"
   ]
  },
  {
   "cell_type": "code",
   "execution_count": 9,
   "id": "9c634382",
   "metadata": {},
   "outputs": [
    {
     "data": {
      "text/plain": [
       "array([[<AxesSubplot: title={'center': 'height_f'}>,\n",
       "        <AxesSubplot: title={'center': 'height_m'}>]], dtype=object)"
      ]
     },
     "execution_count": 9,
     "metadata": {},
     "output_type": "execute_result"
    },
    {
     "data": {
      "image/png": "[encoded data removed]",
      "text/plain": [
       "<Figure size 640x480 with 2 Axes>"
      ]
     },
     "metadata": {},
     "output_type": "display_data"
    }
   ],
   "source": [
    "gym.hist()"
   ]
  },
  {
   "cell_type": "code",
   "execution_count": 10,
   "id": "d48db2fb",
   "metadata": {},
   "outputs": [
    {
     "data": {
      "text/plain": [
       "array([[<AxesSubplot: title={'center': 'height_f'}>,\n",
       "        <AxesSubplot: title={'center': 'height_m'}>]], dtype=object)"
      ]
     },
     "execution_count": 10,
     "metadata": {},
     "output_type": "execute_result"
    },
    {
     "data": {
      "image/png": "[encoded data removed]",
      "text/plain": [
       "<Figure size 640x480 with 2 Axes>"
      ]
     },
     "metadata": {},
     "output_type": "display_data"
    }
   ],
   "source": [
    "gym.hist(bins=20)"
   ]
  },
  {
   "cell_type": "code",
   "execution_count": null,
   "id": "35689b57",
   "metadata": {},
   "outputs": [],
   "source": []
  }
 ],
 "metadata": {
  "kernelspec": {
   "display_name": "Python 3 (ipykernel)",
   "language": "python",
   "name": "python3"
  },
  "language_info": {
   "codemirror_mode": {
    "name": "ipython",
    "version": 3
   },
   "file_extension": ".py",
   "mimetype": "text/x-python",
   "name": "python",
   "nbconvert_exporter": "python",
   "pygments_lexer": "ipython3",
   "version": "3.8.10"
  }
 },
 "nbformat": 4,
 "nbformat_minor": 5
}
