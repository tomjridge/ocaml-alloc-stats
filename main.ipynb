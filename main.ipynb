{
 "cells": [
  {
   "cell_type": "markdown",
   "id": "60a0a7e3",
   "metadata": {},
   "source": [
    "# ocaml-alloc-stats notebook\n",
    "\n",
    "This notebook allows you to read a \".ctf\" common trace format file containing a memtrace trace\n",
    "of allocations from which you can plot some histograms, and perform some simple statistical analysis.\n",
    "\n",
    "Sample ctf files are uploaded to a shared google drive folder here: https://drive.google.com/drive/folders/1ce5LJ7vEgnaPVgtgUeJ23jHG9vp4K50k?usp=share_link\n",
    "\n",
    "In the cell below you can specify the ctf file you wish to work with. The file `irmin-replay.ctf` should be present in the git repo and serves as a good example.\n"
   ]
  },
  {
   "cell_type": "code",
   "execution_count": 50,
   "id": "c7b35e8a",
   "metadata": {},
   "outputs": [],
   "source": [
    "ctf_file = \"irmin-replay.ctf\"\n",
    "\n",
    "# The following flag controls whether we discard allocations that don't survive the minor \n",
    "# heap. These allocations are almost free, so it usually makes sense to discard them when\n",
    "# focusing on the behaviour of the major heap allocator. FIXME TODO\n",
    "ignore_minor_only_allocations = False\n",
    "\n",
    "debug=False # include debug output?"
   ]
  },
  {
   "cell_type": "markdown",
   "id": "09b564d1",
   "metadata": {},
   "source": [
    "Check that the ctf and executables are present."
   ]
  },
  {
   "cell_type": "code",
   "execution_count": 52,
   "id": "42c556f0",
   "metadata": {},
   "outputs": [],
   "source": [
    "# from https://data36.com/plot-histogram-python-pandas/\n",
    "import numpy as np\n",
    "import matplotlib.pyplot as plt\n",
    "import pandas as pd\n",
    "import seaborn as sns\n",
    "%matplotlib inline\n",
    "\n",
    "import csv # reading CSV format trace files\n",
    "import subprocess # for calling ocaml executables\n",
    "import math \n",
    "import os.path\n",
    "\n",
    "\n",
    "# check that a file we rely on is present\n",
    "def file_exists(name):\n",
    "    return os.path.exists(name)\n",
    "\n",
    "dump_exe = \"./dump_trace.exe\"\n",
    "\n",
    "assert file_exists(dump_exe)\n",
    "assert file_exists(ctf_file)\n",
    "print(\"OK, files are present:\", dump_exe, ctf_file)"
   ]
  },
  {
   "cell_type": "markdown",
   "id": "65ca9936",
   "metadata": {},
   "source": [
    "Run the executable, store results in a temporary file, and return the name of the temporary file. An alternative would be to read the .ctf directly in Python, but according to \n",
    "https://babeltrace.org/docs/v2.0/python/bt2/ the Python API is undocumented (although \n",
    "probably not too hard to figure out if the current approach is deemed too ugly)."
   ]
  },
  {
   "cell_type": "code",
   "execution_count": 65,
   "id": "a62f95ad",
   "metadata": {},
   "outputs": [
    {
     "name": "stdout",
     "output_type": "stream",
     "text": [
      "NOTE converted ctf placed in file irmin-replay.ctf.dump\n"
     ]
    }
   ],
   "source": [
    "def convert_ctf_to_dump(filename):\n",
    "    # translate to lookahead format\n",
    "    outfile1 = filename+\".dump\"\n",
    "    subprocess.run([dump_exe,ctf_file,outfile1],check=True)\n",
    "    return outfile1\n",
    "\n",
    "ctf_dump_file = convert_ctf_to_dump(ctf_file)\n",
    "\n",
    "print(\"NOTE converted ctf placed in file \"+ctf_dump_file)"
   ]
  },
  {
   "cell_type": "code",
   "execution_count": 66,
   "id": "f2fc0754",
   "metadata": {},
   "outputs": [
    {
     "name": "stdout",
     "output_type": "stream",
     "text": [
      "Read 10607 events\n"
     ]
    }
   ],
   "source": [
    "# now we can read the dumped file as plain csv\n",
    "\n",
    "if ignore_minor_only_allocations: \n",
    "    if debug: print(\"NOTE we are ignoring minor-only allocations\")\n",
    "else: \n",
    "    if debug: print(\"NOTE we are including minor-only allocations\")\n",
    "\n",
    "def read_dump_as_list(fn):\n",
    "    xs = []\n",
    "    with open(fn) as csvfile:\n",
    "        reader = csv.reader(csvfile, delimiter=' ')\n",
    "        for row in reader:\n",
    "            #print(', '.join(row))            \n",
    "            entry_type = row[1]\n",
    "            #include = (entry_type == 'A') if ignore_minor_only_allocations else (entry_type == 'a' or entry_type == 'A')\n",
    "            assert (entry_type in [\"A\",\"a\",\"AE\",\"P\",\"C\"])\n",
    "            include = (entry_type == 'a' or entry_type == 'A' or entry_type == \"AE\")\n",
    "            if include:\n",
    "                sz = int(row[2])\n",
    "                xs.append(int(sz))\n",
    "    return xs\n",
    "\n",
    "the_trace = read_dump_as_list(ctf_dump_file)\n",
    "\n",
    "print(\"Read\",len(the_trace),\"events\")"
   ]
  },
  {
   "cell_type": "code",
   "execution_count": 67,
   "id": "febd15b9",
   "metadata": {},
   "outputs": [],
   "source": [
    "def group_allocs_by_size(list_of_allocs):\n",
    "    # maintain a dict, mapping allocation size to number of allocs\n",
    "    allocs = dict()\n",
    "    # and a simple list of alloc sizes\n",
    "    for sz in list_of_allocs:\n",
    "        if sz in allocs:\n",
    "            allocs[sz] = allocs[sz]+1\n",
    "        else:\n",
    "            allocs[sz] = 1\n",
    "    return allocs\n",
    "\n",
    "the_allocs_by_size = group_allocs_by_size(the_trace)\n",
    "\n",
    "if debug: the_allocs_by_size"
   ]
  },
  {
   "cell_type": "markdown",
   "id": "2a45ace3",
   "metadata": {},
   "source": [
    "## histogram: all allocations"
   ]
  },
  {
   "cell_type": "code",
   "execution_count": 59,
   "id": "35689b57",
   "metadata": {},
   "outputs": [
    {
     "data": {
      "text/plain": [
       "<matplotlib.patches.StepPatch at 0x7fd468cb0910>"
      ]
     },
     "execution_count": 59,
     "metadata": {},
     "output_type": "execute_result"
    },
    {
     "data": {
      "image/png": "[encoded data removed]",
      "text/plain": [
       "<Figure size 640x480 with 1 Axes>"
      ]
     },
     "metadata": {},
     "output_type": "display_data"
    }
   ],
   "source": [
    "the_np_array = np.array(list(the_allocs_by_size.items()))\n",
    "counts, bins = np.histogram(the_np_array,1000)\n",
    "plt.stairs(counts,bins)"
   ]
  },
  {
   "cell_type": "markdown",
   "id": "ebd23ded",
   "metadata": {},
   "source": [
    "## histogram: small allocations, 0 <= sz < 32"
   ]
  },
  {
   "cell_type": "code",
   "execution_count": 61,
   "id": "83b9471e",
   "metadata": {},
   "outputs": [
    {
     "data": {
      "text/plain": [
       "<matplotlib.patches.StepPatch at 0x7fd451359280>"
      ]
     },
     "execution_count": 61,
     "metadata": {},
     "output_type": "execute_result"
    },
    {
     "data": {
      "image/png": "[encoded data removed]",
      "text/plain": [
       "<Figure size 640x480 with 1 Axes>"
      ]
     },
     "metadata": {},
     "output_type": "display_data"
    }
   ],
   "source": [
    "counts, bins = np.histogram(the_np_array,range=(0,32),bins=32)\n",
    "plt.stairs(counts,bins)"
   ]
  },
  {
   "cell_type": "markdown",
   "id": "40cb4d3b",
   "metadata": {},
   "source": [
    "## histogram: large allocations, 256 < sz < 10000"
   ]
  },
  {
   "cell_type": "code",
   "execution_count": 60,
   "id": "f4ea60f0",
   "metadata": {},
   "outputs": [
    {
     "data": {
      "text/plain": [
       "<matplotlib.patches.StepPatch at 0x7fd4513d7ee0>"
      ]
     },
     "execution_count": 60,
     "metadata": {},
     "output_type": "execute_result"
    },
    {
     "data": {
      "image/png": "[encoded data removed]",
      "text/plain": [
       "<Figure size 640x480 with 1 Axes>"
      ]
     },
     "metadata": {},
     "output_type": "display_data"
    }
   ],
   "source": [
    "counts, bins = np.histogram(the_np_array,range=(257,10000),bins=100)\n",
    "plt.stairs(counts,bins)"
   ]
  },
  {
   "cell_type": "markdown",
   "id": "cad07285",
   "metadata": {},
   "source": [
    "# Calculation of some basic statistics"
   ]
  },
  {
   "cell_type": "markdown",
   "id": "c0236164",
   "metadata": {},
   "source": [
    "## statistic: percentage of large allocs"
   ]
  },
  {
   "cell_type": "code",
   "execution_count": 62,
   "id": "dd8a38f4",
   "metadata": {},
   "outputs": [
    {
     "name": "stdout",
     "output_type": "stream",
     "text": [
      "Percentage large allocs of total:  0.1131328368058829 (total is 10607)\n"
     ]
    }
   ],
   "source": [
    "# sum allocs.items; split into \"small\" vs \"large\" allocs\n",
    "def compute_ratio_small_large(max_small_sz,allocs_grouped_by_size):\n",
    "    allocs = allocs_grouped_by_size\n",
    "    def is_small(sz): return sz <= max_small_sz\n",
    "    total_small_allocs = sum([ v for (k,v) in allocs.items() if is_small(k) ])\n",
    "    total_large_allocs = sum([ v for (k,v) in allocs.items() if not is_small(k) ])\n",
    "    percentage_large = 100.0 * total_large_allocs / (total_small_allocs+total_large_allocs)\n",
    "    total = total_small_allocs+total_large_allocs\n",
    "    return { \"total_small_allocs\":total_small_allocs,\n",
    "            \"total_large_allocs\": total_large_allocs,\n",
    "            \"total\":total,\n",
    "           \"percentage_large\": percentage_large}\n",
    "\n",
    "x = compute_ratio_small_large(256,allocs)\n",
    "\n",
    "print(\"Percentage large allocs of total: \", x[\"percentage_large\"] , \"(total is \"+str(x[\"total\"])+\")\")\n",
    "\n"
   ]
  },
  {
   "cell_type": "markdown",
   "id": "d97d94c9",
   "metadata": {},
   "source": [
    "## statistic: standard deviation"
   ]
  },
  {
   "cell_type": "markdown",
   "id": "0b566888",
   "metadata": {},
   "source": [
    "We calculate the mean and standard deviation for allocs grouped by size.\n"
   ]
  },
  {
   "cell_type": "code",
   "execution_count": 66,
   "id": "178a61a9",
   "metadata": {},
   "outputs": [],
   "source": [
    "# allocs_grouped_by_size should be a map from sz -> count, where count is\n",
    "# the number of allocations of the given size\n",
    "def compute_stats(allocs_grouped_by_size):\n",
    "    allocs = allocs_grouped_by_size\n",
    "    total_count = sum([count_sz for (sz,count_sz) in allocs.items()])\n",
    "    mean = sum([ sz*count_sz for (sz,count_sz) in allocs.items()]) / total_count\n",
    "    variance = sum( [count_sz * (sz - mean)**2 for (sz,count_sz) in allocs.items()] ) / total_count\n",
    "    standard_deviation = math.sqrt(variance) # NOTE sample standard deviation\n",
    "    max_ = max([ sz for (sz,_) in allocs.items()])\n",
    "    return { \"total_count\":total_count, \n",
    "           \"mean\":mean,\n",
    "           \"variance\":variance,\n",
    "            \"standard_deviation\": standard_deviation,\n",
    "           \"max\":max_}\n",
    "    \n",
    "def test():\n",
    "    # https://en.wikipedia.org/wiki/Standard_deviation\n",
    "    xs = { 2:1, 4:3, 5:2, 7:1, 9:1 }\n",
    "    print(compute_stats(xs))\n",
    "    # {'total_count': 8, 'mean': 5.0, 'variance': 4.0}, which matches wikipedia\n",
    "    \n",
    "# test()\n",
    "    "
   ]
  },
  {
   "cell_type": "code",
   "execution_count": 67,
   "id": "fd2d293c",
   "metadata": {},
   "outputs": [
    {
     "name": "stdout",
     "output_type": "stream",
     "text": [
      "{'total_count': 10607, 'mean': 55.573017818421796, 'variance': 14854602.271443171, 'standard_deviation': 3854.1668712502797, 'max': 376181}\n"
     ]
    }
   ],
   "source": [
    "print(compute_stats(allocs))\n",
    "\n",
    "# irmin-replay.ctf: {'total_count': 10607, 'mean': 55.573017818421796, 'variance': 14854602.271443171, 'standard_deviation': 3854.1668712502797, 'max': 376181}"
   ]
  },
  {
   "cell_type": "markdown",
   "id": "b9c48235",
   "metadata": {},
   "source": [
    "# Calculation of stats for segments of the trace\n",
    "\n",
    "We want to check that the stats are roughly similar for different parts of the trace. For example, are the stats for the first half of the trace similar to those of the second? Essentially we are trying to identify if there are points in the trace where the allocation behaviour changes, see e.g. https://en.wikipedia.org/wiki/Change_detection. There are of course many many ways one might try to decide whether there is a change in allocation behaviour. Comparing stats is one very simple approach."
   ]
  },
  {
   "cell_type": "code",
   "execution_count": 70,
   "id": "7a0531d5",
   "metadata": {},
   "outputs": [
    {
     "data": {
      "text/plain": [
       "[{'total_count': 5304,\n",
       "  'mean': 101.08503016591251,\n",
       "  'variance': 29624082.626065496,\n",
       "  'standard_deviation': 5442.800990856224,\n",
       "  'max': 376181},\n",
       " {'total_count': 5303,\n",
       "  'mean': 10.052423156703753,\n",
       "  'variance': 78192.9404914883,\n",
       "  'standard_deviation': 279.6300064218579,\n",
       "  'max': 18401}]"
      ]
     },
     "execution_count": 70,
     "metadata": {},
     "output_type": "execute_result"
    }
   ],
   "source": [
    "# divide a list of allocations into n parts, and compute statistics for each part\n",
    "def compute_stats_for_sublists(allocs,n):\n",
    "    len_part = int(math.ceil(len(allocs)/n))\n",
    "    parts = [ allocs[i:i+len_part] for i in range(0,len(allocs),len_part) ]\n",
    "    grouped = [ group_allocs_by_size(part) for part in parts]\n",
    "    stats = [ compute_stats(group) for group in grouped]\n",
    "    return stats # array of stats\n",
    "\n",
    "compute_stats_for_sublists(xs,2)\n",
    "\n",
    "#  irmin-replay.ctf: [{'total_count': 5304,\n",
    "#   'mean': 101.08503016591251,\n",
    "#   'variance': 29624082.626065496,\n",
    "#   'standard_deviation': 5442.800990856224,\n",
    "#   'max': 376181},\n",
    "#  {'total_count': 5303,\n",
    "#   'mean': 10.052423156703753,\n",
    "#   'variance': 78192.9404914883,\n",
    "#   'standard_deviation': 279.6300064218579,\n",
    "#   'max': 18401}]\n",
    "# i.e. standard deviations differ considerably, due to the presence of a single large allocation initially (?)"
   ]
  },
  {
   "cell_type": "code",
   "execution_count": 81,
   "id": "7a2c823f",
   "metadata": {},
   "outputs": [
    {
     "name": "stdout",
     "output_type": "stream",
     "text": [
      "Part size: 1061\n"
     ]
    },
    {
     "data": {
      "text/plain": [
       "[11543.252324907606,\n",
       " 3840.3145831898764,\n",
       " 3.754323793897764,\n",
       " 42.387826064224484,\n",
       " 28.508788142575277,\n",
       " 570.9815963237824,\n",
       " 4.295762146765788,\n",
       " 35.26154669094364,\n",
       " 2.3370739463509125,\n",
       " 251.6849307499095]"
      ]
     },
     "execution_count": 81,
     "metadata": {},
     "output_type": "execute_result"
    }
   ],
   "source": [
    "zs = compute_stats_for_sublists(xs,10)\n",
    "print(\"Part size: \"+str(zs[0]['total_count'])) # see how large each part is\n",
    "\n",
    "sds = [ stat['standard_deviation'] for stat in zs]\n",
    "sds # look at standard deviations\n",
    "\n",
    "# irmin-replay.ctf: [11543.252324907606,\n",
    "#  3840.3145831898764,\n",
    "#  3.754323793897764,\n",
    "#  42.387826064224484,\n",
    "#  28.508788142575277,\n",
    "#  570.9815963237824,\n",
    "#  4.295762146765788,\n",
    "#  35.26154669094364,\n",
    "#  2.3370739463509125,\n",
    "#  251.6849307499095]\n",
    "# NOTE the standard deviation seems hugely different in different parts of the trace"
   ]
  },
  {
   "cell_type": "code",
   "execution_count": 85,
   "id": "9538edc8",
   "metadata": {},
   "outputs": [
    {
     "data": {
      "text/plain": [
       "[1734.8937832899087, 258.5015332809147]"
      ]
     },
     "execution_count": 85,
     "metadata": {},
     "output_type": "execute_result"
    }
   ],
   "source": [
    "# Since the std-devs differ in different parts of the trace, we might like to \n",
    "# discard the first n and last m of the trace, and then compute the stats for the parts\n",
    "# (based on the idea that there is an initial phase, a middle phase, and a final phase).\n",
    "\n",
    "xs2 = xs[100:-100] # drop first and last 100\n",
    "zs = compute_stats_for_sublists(xs2,2)\n",
    "sds = [ stat['standard_deviation'] for stat in zs]\n",
    "sds # look at standard deviations\n",
    "# irmin-replay.ctf, 10 parts: [5.028304162882723,\n",
    "#  3876.988864403568,\n",
    "#  3.7522287683569746,\n",
    "#  42.791689411645706,\n",
    "#  28.778319842250163,\n",
    "#  576.4320878081263,\n",
    "#  4.333565335506148,\n",
    "#  35.59466670313876,\n",
    "#  2.2804319438512515,\n",
    "#  2.40881558325566]\n",
    "# irmin-replay.ctf, 2 parts: [1734.8937832899087, 258.5015332809147]\n",
    "# NOTE so even with this hack of ignoring the first and last 100 allocs, the allocations \n",
    "# in the first half seem different from those in the second. Perhaps irmin-replay does\n",
    "# allocate differently in the two parts?\n"
   ]
  },
  {
   "cell_type": "code",
   "execution_count": 88,
   "id": "5b67f640",
   "metadata": {},
   "outputs": [
    {
     "name": "stdout",
     "output_type": "stream",
     "text": [
      "[4, 4, 3, 4, 8, 3, 8, 8, 4, 3, 8, 1, 4, 8, 9, 1, 4, 6, 1, 9, 4, 3, 4, 8, 4, 4, 8, 5, 9, 8, 4, 4, 4, 4, 6, 8, 1, 1, 4, 10, 6, 8, 7, 1, 4, 5, 4, 4, 3, 4, 10, 4, 8, 8, 1, 6, 8, 3, 11, 6, 5, 1, 4, 2, 8, 6, 5, 2, 5, 1, 5, 4, 4, 8, 9, 4, 8, 8, 4, 4, 4, 6, 4, 4, 8, 4, 4, 4, 8, 8, 8, 4, 9, 8, 8, 2, 8, 8, 8, 1, 8, 1, 4, 1, 8, 1, 8, 5, 1, 4, 8, 8, 8, 4, 4, 5, 6, 10, 4, 4, 8, 4, 10, 2, 1, 4, 9, 8, 4, 8, 1, 8, 4, 4, 1, 8, 9, 10, 2, 1, 6, 8, 1, 1, 4, 1, 6, 2, 4, 1, 4, 4, 6, 1, 4, 4, 6, 6, 1, 1, 1, 6, 9, 8, 8, 8, 11, 1, 4, 1, 4, 4, 4, 8, 8, 1, 1, 8, 1, 4, 2, 4, 6, 8, 4, 7, 6, 3, 1, 5, 4, 4, 4, 1, 9, 6, 8, 4, 4, 4, 4, 7, 8, 8, 9, 8, 1, 8, 4, 11, 8, 9, 8, 1, 5, 1, 8, 8, 4, 8, 4, 9, 6, 4, 4, 4, 1, 4, 1, 9, 8, 1, 6, 8, 8, 11, 4, 5, 1, 3, 8, 10, 10, 8, 2, 2, 8, 6, 4, 4, 2, 6, 3, 8, 4, 6, 1, 1, 8, 2, 8, 8, 1, 8, 1, 4, 4, 1, 4, 6, 4, 4, 1, 8, 6, 8, 5, 8, 6, 3, 9, 2, 4, 6, 6, 4, 9, 4, 5, 1, 9, 4, 1, 4, 8, 8, 10, 6, 5, 4, 1, 5, 2, 4, 9, 8, 7, 10, 4, 8, 2, 8, 4, 11, 3, 5, 3, 4, 4, 7, 5, 4, 4, 3, 5, 1, 4, 4, 1, 4, 2, 2, 4, 4, 6, 1, 4, 32, 9, 4, 6, 1, 3, 1, 4, 2, 4, 14, 2, 4, 5, 7, 8, 5, 1, 5, 2, 4, 32, 11, 9, 5, 1, 5, 4, 8, 3, 5, 5, 10, 6, 4, 32, 10, 32, 4, 4, 5, 1, 4, 11, 32, 3, 32, 4, 2, 5, 4, 2, 5, 3, 2, 2, 2, 2, 4, 32, 4, 1, 11, 4, 3, 4, 1, 4, 4, 1, 4, 1, 7, 2, 5, 4, 2, 5, 4, 4, 3, 32, 4, 1, 4, 32, 4, 32, 5, 2, 32, 2, 5, 10, 14, 14, 4, 32, 10, 32, 32, 7, 15, 3, 5, 2, 2, 8, 4, 1, 3, 2, 32, 32, 5, 32, 9, 4, 2, 4, 3, 5, 2, 4, 3, 5, 9, 2, 5, 14, 8, 3, 4, 32, 4, 4, 2, 3, 2, 3, 10, 4, 32, 4, 2, 3, 4, 5, 32, 2, 1, 16, 32, 9, 8, 4, 5, 5, 3, 9, 3, 3, 4, 32, 32, 4, 1, 4, 14, 9, 2, 2, 5, 5, 4, 9, 4, 1, 32, 3, 9, 4, 4, 8, 5, 32, 3, 4, 2, 5, 8, 4, 4, 9, 2, 4, 8, 4, 5, 7, 5, 9, 1, 9, 1, 2, 4, 2, 4, 8, 1, 2, 8, 4, 10, 4, 4, 5, 4, 8, 8, 8, 7, 4, 8, 4, 8, 11, 8, 2, 2, 1, 2, 5, 2, 1, 9, 4, 2, 2, 4, 1, 8, 4, 1, 6, 2, 8, 1, 4, 4, 8, 4, 2, 8, 5, 4, 9, 4, 5, 4, 5, 8, 1, 4, 5, 2, 5, 1, 2, 4, 8, 8, 5, 8, 8, 5, 2, 7, 4, 1, 4, 2, 2, 4, 2, 8, 4, 13, 2, 5, 4, 2, 8, 1, 8, 1, 5, 4, 1, 4, 8, 1, 9, 4, 4, 1, 5, 4, 4, 4, 8, 1, 5, 4, 1, 8, 11, 5, 3, 5, 1, 5, 8, 3, 8, 4, 9, 9, 3, 8, 5, 4, 4, 4, 8, 5, 5, 5, 4, 4, 2, 8, 4, 2, 8, 8, 4, 8, 8, 2, 2, 11, 4, 5, 5, 5, 3, 4, 4, 4, 5, 2, 4, 4, 8, 9, 4, 4, 1, 4, 1, 32, 4, 8, 4, 5, 11, 8, 8, 4, 5, 8, 4, 5, 2, 4, 2, 4, 4, 4, 2, 2, 3, 1, 2, 4, 1, 2, 2, 2, 2, 1, 5, 5, 8, 5, 5, 5, 8, 4, 4, 3, 4, 2, 8, 9, 4, 8, 4, 1, 2, 4, 8, 3, 2, 5, 4, 2, 8, 4, 5, 4, 1, 6, 1, 2, 2, 4, 2, 2, 5, 1, 5, 1, 1, 2, 4, 1, 4, 2, 2, 8, 1, 5, 11, 4, 4, 8, 8, 5, 8, 9, 4, 5, 6, 4, 4, 2, 4, 5, 8, 4, 5, 8, 6, 8, 5, 8, 4, 3, 2, 5, 5, 8, 8, 8, 8, 9, 2, 2, 8, 5, 6, 1, 8, 2, 2, 1, 8, 8, 1, 1, 3, 5, 4, 1, 5, 9, 2, 4, 4, 8, 5, 8, 4, 5, 5, 5, 8, 4, 4, 2, 4, 2, 4, 2, 2, 3, 4, 5, 4, 4, 6, 4, 7, 5, 7, 4, 1, 8, 5, 2, 4, 4, 7, 5, 2, 4, 8, 8, 2, 3, 5, 4, 1, 2, 4, 5, 1, 8, 2, 4, 2, 5, 5, 8, 1, 8, 7, 4, 3, 8, 4, 4, 2, 5, 2, 3, 5, 2, 2, 4, 4, 4, 1, 8, 2, 4, 4, 2, 4, 5, 4, 2, 5, 4, 4, 8, 4, 9, 8, 5, 10, 1, 1, 6, 5, 4, 1, 4, 4, 8, 8, 4, 6, 8, 8, 5, 1, 8, 4, 5, 6, 4, 8, 2, 5, 8, 8, 3, 4, 1, 2, 4, 8, 3, 1, 8, 4, 2, 4, 4, 2, 4, 4, 1, 2, 14, 4, 8, 3, 8, 1, 5, 4, 1, 4, 4, 5, 3, 8, 8, 1, 4, 8, 4, 1, 1, 2, 4, 5, 4, 5, 8, 4, 6, 2, 7, 2, 4, 8, 4, 1, 3, 4, 8, 1, 1, 4, 1, 5, 6, 4, 4, 4, 4, 8, 3, 1, 2, 1, 9, 2, 4, 2, 5, 4, 4, 8, 4, 2, 1, 5, 6, 5, 5, 1, 5, 1, 4, 5, 1, 8, 5, 4, 1, 5, 2, 8, 8, 2, 4, 1, 8, 5, 4, 4, 2, 4, 8, 2, 3, 8, 8, 2, 5, 4, 5, 2, 2, 4, 4, 4, 5, 5, 1, 8, 1, 2, 4, 8, 4, 8, 8, 5, 4, 4, 5, 8, 4, 8, 8, 2, 8, 1, 7, 4, 4, 8, 3, 6, 1, 5, 5, 4, 2, 4, 5, 1, 4, 8, 4, 8, 2, 2, 5, 4, 1, 4, 4, 5, 1, 1, 8, 9, 4, 2, 10, 4, 4, 4, 6, 8, 8, 6, 4, 8, 5, 5, 5, 8, 2, 11, 3, 7, 1, 1, 4, 8, 2, 32, 6, 2, 3, 3, 3, 3, 4, 32, 8, 4, 4, 4, 4, 2, 4, 5, 5, 2, 2, 8, 8, 2, 4, 4, 5, 5, 5, 4, 7, 4, 2, 1, 2, 8, 5, 7, 8, 4, 2, 2, 2, 7, 7, 7, 2, 2, 5, 5, 8, 4, 5, 8, 6, 1, 7, 5, 4, 4, 5, 8, 5, 8, 2, 5, 2, 4, 3, 4, 8, 5, 4, 4, 1, 4, 4, 4, 2, 7, 2, 4, 2, 7, 2, 2, 4, 2, 8, 8, 2, 4, 2, 8, 8, 4, 8, 2, 4, 8, 11, 8, 4, 1, 4, 5, 1, 32, 1, 5, 2, 1, 2, 4, 4, 8, 2, 4, 8, 1, 2, 8, 2, 4, 4, 8, 1, 4, 5, 4, 8, 11, 4, 3, 5, 5, 8, 5, 1, 8, 8, 5, 4, 1, 4, 5, 4, 4, 5, 5, 2, 4, 8, 3, 7, 4, 1, 1, 2, 1, 1, 1, 4, 4, 8, 2, 5, 8, 4, 4, 5, 4, 1, 2, 3, 5, 8, 4, 32, 9, 5, 2, 2, 7, 2, 5, 8, 8, 4, 1, 4, 2, 4, 8, 2, 2, 32, 9, 8, 1, 1, 4, 4, 2, 5, 2, 1, 8, 4, 3, 4, 5, 16, 4, 5, 8, 5, 8, 3, 2, 4, 2, 4, 4, 2, 4, 4, 4, 8, 10, 4, 32, 1, 2, 4, 2, 3, 4, 7, 1, 5, 5, 4, 2, 5, 8, 2, 5, 4, 4, 4, 8, 5, 6, 3, 7, 2, 4, 5, 3, 8, 4, 4, 3, 10, 8, 4, 8, 5, 8, 5, 9, 5, 4, 8, 2, 2, 4, 7, 2, 8, 1, 2, 8, 8, 8, 4, 5, 4, 8, 5, 8, 4, 4, 4, 3, 5, 1, 4, 5, 3, 1, 6, 4, 10, 1, 8, 6, 2, 11, 4, 6, 1, 7, 2, 4, 4, 8, 8, 4, 1, 4, 4, 6, 6, 4, 8, 1, 8, 1, 6, 8, 4, 2, 5, 8, 6, 1, 4, 3, 3, 11, 9, 4, 4, 1, 4, 3, 8, 4, 8, 1, 6, 1, 3, 2, 32, 4, 5, 4, 2, 4, 5, 4, 1, 1, 1, 2, 2, 32, 4, 2, 1, 4, 125004, 4, 10, 3, 2, 1, 1, 1, 1, 5, 8, 8, 2, 4, 4, 2, 1, 10, 4, 4, 5, 1, 8, 8, 8, 4, 4, 6, 5, 5, 5, 8, 9, 1, 8, 1, 1, 6, 2, 4, 8, 2, 2, 4, 2, 4, 8, 5, 7, 5, 2, 1, 8, 1, 380, 4, 5, 8, 5, 4, 1, 8, 4, 2, 8, 9, 3, 4, 4, 4, 4, 2, 4, 1, 2, 2, 8, 4, 2, 1, 5, 8, 5, 8, 8, 2, 4, 5, 8, 2, 2, 4, 3, 5, 4, 32, 1, 1, 3, 4, 8, 2, 4, 1, 2, 8, 4, 7, 5, 1, 3, 8, 2, 5, 4, 4, 10, 8, 4, 2, 2, 2, 2, 2, 8, 2, 4, 8, 4, 8, 8, 4, 2, 9, 10, 4, 10, 2, 2, 8, 4, 4, 1, 10, 4, 8, 9, 5, 4, 2, 5, 3, 6, 1, 1, 2, 5, 1, 5, 4, 1, 4, 5, 8, 4, 1, 1, 4, 2, 1, 4, 8, 4, 4, 2, 4, 4, 4, 4, 4, 7, 6, 8, 3, 5, 8, 4, 6, 8, 2, 4, 3, 4, 2, 9, 10, 4, 8, 2, 2, 2, 2, 5, 2, 4, 5, 1, 2, 2, 4, 5, 2, 2, 6, 2, 4, 1, 5, 1, 4, 2, 2, 2, 4, 2, 5, 7, 4, 5, 4, 9, 4, 4, 8, 2, 4, 1, 5, 2, 4, 4, 5, 2, 1, 5, 8, 4, 2, 4, 32, 3, 5, 4, 5, 8, 2, 5, 4, 5, 5, 1, 5, 2, 4, 2, 5, 4, 2, 5, 4, 2, 4, 9, 2, 2, 4, 32, 4, 4, 3, 1, 1, 5, 4, 8, 10, 5, 4, 6, 1, 2, 32, 14, 1, 1, 6, 8, 11, 2, 8, 1, 4, 1, 4, 4, 1, 2, 2, 13, 6, 1, 6, 3, 5, 4, 9, 4, 8, 1, 8, 2, 8, 10, 4, 8, 4, 5, 2, 8, 5, 4, 4, 8, 4, 10, 3, 2, 2, 1, 8, 5, 1, 4, 8, 4, 2, 5, 2, 4, 8, 2, 32, 1, 9, 5, 5, 2, 2, 3, 4, 1, 8, 4, 8, 2, 4, 2, 1, 4, 4, 8, 4, 2, 8, 4, 4, 1, 8, 8, 4, 4, 8, 13, 6, 5, 4, 2, 9, 5, 4, 9, 8, 4, 6, 4, 5, 2, 11, 4, 5, 2, 2, 4, 1, 3, 4, 5, 4, 4, 4, 4, 6, 2, 8, 4, 2, 8, 1, 4, 4, 3, 2, 4, 2, 5, 4, 9, 4, 2, 4, 4, 4, 3, 8, 2, 2, 14, 8, 8, 2, 8, 7, 4, 4, 1, 4, 4, 6250, 2, 4, 2, 2, 5, 2, 1, 3, 7, 4, 1, 9, 4, 5, 2, 1, 1, 5, 5, 2, 2, 8, 8, 3, 6, 4, 5, 4, 8, 5, 5, 4, 2, 4, 8, 5, 9, 3, 8, 4, 1, 6, 8, 4, 8, 4, 1, 8, 2, 9, 5, 8, 4, 5, 1, 5, 4, 5, 8, 2, 15, 8, 6, 8, 1, 2, 5, 1, 4, 4, 9, 2, 4, 4, 1, 9, 4, 2, 4, 2, 9, 2, 4, 8, 8, 4, 4, 3, 8, 10, 4, 1, 5, 8, 8, 8, 2, 8, 9, 5, 9, 5, 2, 5, 2, 4, 5, 1, 3, 5, 2, 5, 2, 3, 2, 8, 1, 2, 5, 4, 4, 8, 4, 4, 4, 1, 5, 8, 5, 6, 4, 1, 5, 2, 4, 2, 4, 5, 1, 8, 4, 8, 4, 4, 4, 4, 4, 5, 4, 4, 2, 7, 4, 2, 5, 4, 4, 2, 8, 1, 4, 5, 4, 1, 5, 4, 4, 4, 2, 5, 9, 2, 4, 5, 2, 4, 4, 5, 2, 2, 2, 4, 2, 1, 4, 8, 1, 4, 8, 6, 8, 2, 32, 4, 3, 5, 2, 8, 8, 5, 2, 2, 2, 7, 4, 4, 2, 4, 4, 5, 2, 2, 4, 4, 1, 2, 6, 5, 2, 4, 4, 2, 4, 8, 2, 10, 2, 2, 1, 10, 4, 4, 8, 8, 1, 7, 5, 1, 3, 4, 4, 8, 5, 8, 2, 2, 8, 4, 3, 4, 11, 2, 8, 2, 10, 1, 2, 2, 2, 5, 4, 8, 8, 3, 5, 8, 1, 1, 5, 2, 4, 8, 5, 1, 4, 8, 6, 5, 9, 2, 8, 1, 8, 8, 4, 4, 4, 32, 2, 4, 8, 8, 1, 2, 4, 8, 4, 5, 8, 8, 1, 3, 5, 1, 4, 4, 1, 4, 3, 8, 1, 4, 8, 8, 4, 5, 2, 2, 8, 9, 2, 5, 1, 6, 3, 4, 3, 8, 5, 2, 6, 8, 5, 3, 8, 1, 4, 8, 5, 6, 2, 8, 10, 2, 4, 4, 4, 8, 5, 5, 6, 2, 4, 8, 5, 2, 2, 2, 5, 1, 1, 2, 1, 6, 4, 3, 4, 5, 2, 5, 4, 32, 4, 2, 1, 5, 4, 6, 8, 2, 4, 4, 4, 1, 5, 4, 4, 4, 4, 6, 5, 5, 4, 8, 2, 8, 5, 1, 5, 5, 5, 8, 5, 6, 2, 4, 5, 2, 1, 2, 2, 1, 2, 2, 8, 2, 2, 5, 2, 1, 5, 4, 4, 5, 2, 2, 8, 1, 2, 8, 8, 2, 2, 4, 32, 2, 2, 16, 4, 1, 2, 4, 5, 5, 4, 2, 8, 4, 2, 7, 1, 4, 2, 9, 1, 8, 4, 4, 4, 4, 4, 4, 5, 8, 4, 2, 1, 3, 8, 6, 5, 4, 8, 4, 3, 4, 7, 8, 2, 5, 4, 4, 4, 4, 5, 5, 2, 4, 2, 4, 4, 4, 2, 4, 3, 5, 4, 8, 8, 2, 4, 9, 2, 4, 3, 1, 6, 1, 2, 5, 4, 4, 2, 8, 2, 3, 2, 1, 8, 5, 8, 5, 5, 7, 1, 8, 2, 8, 5, 2, 8, 4, 4, 5, 2, 8, 1, 4, 1, 5, 8, 9, 5, 11, 5, 3, 3, 6, 4, 4, 8, 6, 5, 4, 8, 4, 3, 4, 2, 4, 4, 5, 4, 5, 8, 2, 5, 4, 8, 1, 2, 2, 8, 2, 1, 1, 2, 3, 2, 14, 4, 4, 3, 2, 4, 1, 4, 4, 4, 4, 2, 8, 8, 5, 8, 2, 2, 2, 8, 2, 2, 1, 5, 4, 5, 8, 6, 2, 2, 32, 5, 3, 8, 4, 5, 1, 3, 5, 1, 8, 5, 8, 5, 4, 8, 2, 1, 2, 2, 4, 2, 9, 32, 5, 1, 5, 5, 1, 2, 1, 8, 1, 4, 5, 8, 4, 8, 4, 9, 4, 8, 2, 4, 2, 1, 5, 2, 3, 2, 6, 4, 8, 1, 1, 2, 2, 2, 1, 5, 4, 2, 1, 9, 7, 2, 4, 9, 4, 4, 2, 8, 2, 32, 5, 4, 5, 9, 32, 4, 1, 8, 5, 5, 4, 5, 1, 4, 2, 3, 4, 8, 5, 1, 5, 4, 8, 8, 4, 4, 4, 5, 8, 3, 3, 2, 3, 1, 5, 8, 12, 8, 2, 2, 4, 4, 7, 11, 5, 2, 4, 5, 5, 8, 5, 4, 4, 1, 5, 4, 2, 4, 8, 9, 5, 8, 2, 5, 4, 8, 5, 5, 2, 5, 1, 4, 6, 4, 4, 8, 4, 2, 8, 8, 8, 2, 4, 8, 5, 8, 7, 4, 2, 6, 4, 2, 4, 7, 1, 5, 1, 6, 3, 5, 4, 4, 4, 5, 5, 1, 4, 2, 32, 2, 2, 2, 4, 5, 2, 3, 10, 5, 4, 2, 5, 3, 2, 8, 1, 8, 8, 1, 8, 8, 4, 1, 2, 6, 2, 4, 4, 1, 4, 6, 2, 5, 4, 2, 5, 4, 2, 2, 4, 32, 3, 7, 8, 2, 4, 9, 14, 5, 8, 6, 8, 5, 2, 5, 2, 4, 3, 9, 4, 8, 5, 5, 4, 8, 2, 3, 4, 2, 5, 1, 4, 3, 4, 4, 5, 10, 2, 8, 8, 8, 4, 4, 2, 2, 6, 5, 8, 2, 1, 4, 6, 8, 7, 8, 3, 4, 8, 4, 8, 4, 2, 8, 1, 4, 4, 5, 8, 1, 4, 8, 1, 1, 6, 4, 2, 1, 3, 5, 8, 2, 8, 11, 1, 2, 2, 1, 5, 4, 1, 4, 4, 8, 1, 2, 5, 6, 9, 8, 1, 4, 2, 1, 4, 2, 1, 5, 4, 8, 9, 2, 4, 1, 9, 5, 4, 5, 2, 4, 3, 5, 6, 2, 5, 2, 9, 6, 4, 8, 4, 4, 1, 5, 8, 8, 4, 2, 5, 1, 8, 8, 4, 4, 4, 4, 8, 5, 1, 8, 6, 2, 4, 8, 4, 4, 5, 8, 2, 2, 2, 4, 6, 4, 6, 4, 3, 4, 2, 2, 4, 2, 2, 2, 2, 2, 1, 5, 2, 2, 4, 8, 4, 2, 5, 4, 4, 1, 7, 8, 1, 8, 3, 1, 5, 8, 6, 1, 4, 2, 4, 5, 8, 2, 2, 1, 8, 3, 2, 9, 8, 5, 5, 5, 5, 2, 8, 8, 4, 2, 2, 32, 5, 4, 4, 6, 8, 14, 2, 4, 2, 5, 5, 14, 8, 8, 2, 1, 2, 8, 1, 5, 4, 4, 8, 6, 9, 6, 4, 8, 4, 6, 4, 4, 4, 2, 2, 5, 2, 1, 8, 8, 4, 11, 8, 4, 5, 8, 5, 4, 3, 4, 4, 4, 4, 4, 2, 1, 4, 10, 2, 5, 9, 5, 2, 4, 2, 5, 2, 6, 4, 3, 4, 4, 4, 4, 4, 6, 11, 4, 5, 4, 2, 5, 4, 5, 1, 4, 4, 5, 2, 5, 2, 5, 4, 2, 8, 8, 9, 4, 4, 8, 4, 8, 8, 4, 5, 4, 2, 4, 5, 8, 8, 11, 11, 2, 1, 6, 8, 8, 2, 2, 2, 3, 5, 8, 8, 5, 1, 4, 5, 32, 5, 8, 5, 1, 2, 2, 4, 4, 8, 2, 3, 2, 5, 8, 5, 1, 2, 8, 5, 2, 4, 4, 11, 4, 2, 1, 2, 4, 1, 4, 2, 8, 4, 5, 2, 4, 8, 4, 8, 4, 9, 8, 9, 11, 4, 4, 2, 5, 4, 4, 8, 8, 5, 8, 3, 8, 5, 6, 2, 5, 5, 5, 4, 2, 8, 5, 4, 1, 1, 4, 5, 4, 2, 2, 9, 4, 5, 4, 8, 8, 2, 4, 6, 8, 8, 8, 4, 1, 4, 5, 5, 8, 4, 5, 7, 8, 10, 4, 4, 6, 2, 4, 4, 4, 7, 2, 2, 3, 4, 2, 8, 2, 9, 1, 9, 11, 8, 3, 4, 6, 11, 8, 4, 5, 1, 8, 6, 3, 2, 2, 2, 2, 2, 4, 1, 6, 5, 4, 2, 2, 5, 4, 2, 3, 4, 3, 4, 9, 5, 8, 4, 5, 1, 4, 5, 5, 2, 10, 7, 4, 2, 4, 4, 8, 2, 4, 6, 8, 1, 2, 1, 4, 8, 4, 4, 8, 2, 5, 8, 4, 1, 3, 2, 8, 4, 8, 5, 4, 8, 5, 8, 4, 2, 4, 8, 4, 4, 4, 8, 3, 6, 8, 1, 1, 4, 2, 2, 9, 4, 5, 5, 4, 4, 5, 4, 2, 5, 4, 3, 2, 5, 6, 3, 5, 3, 8, 4, 4, 5, 2, 9, 5, 2, 5, 2, 2, 2, 6, 2, 7, 1, 8, 8, 5, 2, 4, 4, 4, 2, 1, 1, 4, 4, 4, 4, 2, 5, 5, 4, 1, 2, 1, 4, 4, 4, 4, 2, 4, 2, 4, 5, 8, 4, 6, 4, 5, 6, 2, 6, 4, 4, 8, 8, 4, 8, 2, 1, 4, 8, 2, 2, 8, 5, 5, 8, 3, 4, 5, 4, 8, 1, 3, 4, 4, 4, 5, 1, 2, 5, 4, 8, 1, 2, 2, 2, 2, 5, 4, 4, 1, 1, 5, 4, 7, 2, 1, 4, 8, 4, 3, 4, 5, 2, 2, 32, 4, 1, 2, 1, 5, 5, 8, 4, 4, 2, 4, 1, 3, 9, 8, 32, 4, 4, 4, 2, 3, 8, 4, 4, 8, 4, 4, 8, 5, 8, 8, 5, 8, 4, 8, 1, 8, 2, 4, 4, 4, 3, 4, 8, 1379, 8, 4, 32, 3, 5, 4, 4, 1, 4, 6, 8, 2, 5, 4, 4, 1, 6, 4, 8, 5, 8, 8, 4, 9, 2, 2, 1, 1, 2, 8, 8, 4, 4, 4, 6, 2, 4, 4, 5, 2, 1, 4, 6, 1, 9, 1, 5, 2, 4, 8, 1, 1, 8, 9, 4, 3, 4, 6, 1, 2, 4, 4, 1, 5, 2, 4, 2, 2, 8, 4, 1, 2, 5, 32, 4, 4, 2, 2, 2, 1, 13, 3, 4, 5, 2, 5, 1, 2, 8, 1, 6, 1, 2, 2, 4, 1, 4, 4, 4, 9, 5, 5, 1, 1, 2, 4, 4, 4, 5, 4, 8, 4, 10, 2, 5, 3, 8, 1, 2, 4, 8, 8, 3, 6, 6, 4, 1, 4, 3, 4, 1, 2, 1, 4, 5, 1, 7, 4, 4, 1, 5, 4, 4, 4, 4, 5, 9, 2, 8, 5, 2, 4, 5, 1, 8, 5, 2, 1, 32, 9, 32, 4, 2, 2, 1, 1, 8, 11, 4, 5, 6, 8, 8, 2, 4, 4, 9, 8, 8, 2, 5, 2, 5, 2, 4, 2, 2, 5, 2, 1, 8, 8, 2, 5, 9, 9, 4, 4, 4, 5, 8, 32, 5, 1, 8, 4, 4, 1, 5, 5, 4, 2, 10, 4, 5, 4, 1, 1, 4, 4, 4, 1, 1, 1, 4, 2, 2, 4, 2, 4, 2, 1, 4, 2, 4, 5, 32, 2, 2, 1, 4, 4, 4, 1, 1, 1, 7, 5, 5, 4, 1, 4, 1, 6, 5, 5, 1, 2, 5, 5, 2, 4, 4, 1, 32, 4, 4, 8, 1, 8, 9, 2, 2, 4, 4, 2, 4, 1, 1, 4, 3, 5, 5, 4, 8, 8, 8, 5, 8, 2, 8, 8, 6, 6, 3, 2, 1, 1, 6, 4, 4, 1, 8, 2, 6, 4, 8, 8, 5, 4, 4, 4, 4, 2, 2, 9, 1, 2, 4, 4, 5, 4, 1, 1, 2, 8, 2, 4, 28, 5, 4, 6, 4, 4, 4, 6, 6, 2, 5, 2, 4, 8, 4, 4, 8, 2, 4, 3, 4, 4, 32, 1, 7, 4, 8, 5, 6, 4, 32, 5, 1, 1, 5, 4, 1, 4, 2, 2, 2, 5, 2, 4, 4, 4, 4, 8, 2, 2, 2, 2, 2, 4, 2, 4, 5, 8, 4, 2, 6, 4, 1, 9, 2, 4, 5, 11, 1, 6, 1, 8, 2, 4, 2, 1, 1, 5, 5, 1, 5, 4, 4, 4, 2, 5, 5, 2, 5, 6, 4, 1, 1, 12, 6, 4, 1, 32, 5, 10, 4, 1, 4, 4, 5, 8, 9, 2, 1, 8, 7, 8, 7, 1, 3, 1, 5, 5, 7, 6, 10, 4, 1, 2, 4, 1, 2, 2, 4, 6, 8, 32, 4, 2, 2, 8, 5, 3, 8, 7, 5, 2, 4, 5, 2, 6, 3, 2, 3, 2, 1, 10, 5, 4, 4, 5, 3, 6, 6, 8, 2, 1, 1, 3, 4, 4, 5, 32, 2, 4, 1, 9, 1, 1, 2, 4, 13, 11, 5, 32, 2, 5, 4, 5, 5, 3, 7, 4, 2, 2, 4, 8, 1, 1, 7, 10, 1, 5, 6, 10, 32, 1, 2, 1, 5, 5, 4, 4, 4, 4, 2, 8, 2, 8, 5, 2, 9, 10, 2, 1, 4, 1, 8, 2, 9, 8, 4, 9, 4, 4, 1, 2, 4, 4, 7, 4, 4, 8, 3, 8, 3, 4, 4, 1, 4, 4, 4, 2, 3, 8, 5, 8, 8, 2, 4, 4, 11, 4, 1, 4, 2, 5, 8, 1, 9, 2, 8, 11, 5, 5, 2, 4, 5, 8, 10, 4, 8, 1, 4, 4, 4, 11, 2, 5, 3, 1, 7, 8, 2, 8, 2, 4, 1, 8, 6, 5, 4, 4, 2, 5, 2, 8, 15, 4, 4, 8, 2, 4, 1, 2, 3, 5, 32, 2, 1, 5, 8, 8, 4, 4, 4, 3, 4, 4, 5, 8, 8, 8, 15, 2, 4, 4, 4, 3, 2, 4, 8, 4, 4, 8, 1, 2, 8, 32, 8, 2, 10, 32, 2, 8, 1, 2, 1, 2, 2, 8, 8, 5, 5, 1, 5, 7, 2, 4, 4, 16, 2, 4, 2, 8, 5, 5, 4, 4, 4, 4, 2, 5, 2, 2, 8, 2, 4, 4, 3, 4, 8, 10, 2, 3, 4, 4, 5, 6, 5, 5, 6, 4, 2, 8, 5, 1, 1, 8, 1, 8, 4, 6, 9, 7, 1, 9, 5, 8, 4, 4, 6, 2, 9, 4, 2, 4, 2, 2, 1, 1, 4, 4, 4, 1, 32, 1, 2, 2, 8, 4, 4, 8, 32, 6, 5, 5, 6, 3, 32, 32, 4, 10, 2, 1, 10, 6, 8, 4, 4, 4, 10, 5, 4, 3, 4, 1, 5, 2, 4, 4, 3, 5, 2, 6, 6, 5, 4, 7, 1, 2, 5, 4, 4, 8, 1, 8, 4, 1, 2, 5, 5, 5, 1, 1, 5, 8, 2, 2, 5, 4, 2, 15, 2, 5, 4, 8, 4, 8, 4, 4, 5, 1, 4, 8, 2, 2, 5, 5, 4, 1, 2, 8, 8, 2, 2, 1, 9, 1, 3, 4, 3, 3, 5, 5, 4, 5, 4, 6, 8, 2, 5, 2, 32, 8, 4, 5, 6, 2, 4, 5, 8, 5, 8, 5, 4, 1, 4, 8, 2, 8, 1, 2, 2, 2, 2, 2, 2, 1, 1, 2, 2, 4, 2, 4, 7, 1, 8, 8, 1, 1, 5, 6, 4, 4, 4, 1, 5, 4, 7, 5, 4, 6, 3, 4, 8, 5, 8, 1, 7, 8, 1, 7, 4, 1, 6, 5, 2, 4, 2, 7, 2, 6, 9, 6, 8, 11, 4, 2, 4, 8, 4, 1, 1, 2, 1, 2, 4, 6, 4, 5, 4, 4, 1, 8, 4, 5, 5, 8, 8, 10, 8, 4, 4, 1, 32, 1, 2, 4, 4, 9, 2, 8, 1, 5, 8, 8, 4, 1, 1, 8, 2, 5, 2, 6, 5, 2, 5, 4, 4, 2, 3, 2, 6, 11, 2, 4, 2, 6, 4, 4, 2, 4, 8, 2, 4, 8, 1, 10, 5, 6, 8, 6, 8, 2, 2, 8, 8, 8, 8, 8, 8, 8, 2, 8, 8, 1, 4, 4, 4, 4, 5, 8, 5, 5, 2, 4, 1, 2, 9, 1, 16, 4, 4, 1, 2, 5, 4, 8, 5, 1, 7, 5, 1, 32, 4, 5, 2, 1, 4, 4, 4, 2, 6, 1, 8, 5, 8, 6, 8, 4, 8, 9, 4, 4, 1, 8, 2, 8, 4, 4, 1, 2, 5, 5, 4, 2, 4, 8, 2, 2, 5, 8, 5, 2, 4, 5, 8, 6, 2, 1, 5, 4, 4, 2, 4, 11, 8, 8, 8, 8, 3, 5, 2, 2, 2, 4, 32, 3, 6, 5, 4, 5, 8, 1, 5, 1, 1, 2, 13, 8, 4, 4, 4, 4, 5, 2, 2, 8, 5, 4, 5, 1, 5, 2, 2, 4, 8, 1, 2, 2, 5, 2, 2, 1, 2, 4, 1, 2, 4, 2, 2, 4, 4, 8, 15, 4, 4, 4, 2, 4, 5, 1, 5, 2, 2, 10, 2, 2, 5, 2, 3, 7, 4, 2, 1, 1, 3, 8, 5, 8, 8, 3, 3, 4, 4, 4, 8, 4, 8, 1, 1, 8, 1, 4, 3, 4, 2, 5, 2, 2, 5, 8, 3, 5, 4, 5, 4, 3, 6, 2, 4, 3, 6, 8, 5, 1, 2, 4, 2, 4, 4, 5, 2, 4, 4, 4, 8, 4, 1, 8, 2, 2, 4, 4, 9, 3, 2, 4, 3, 5, 8, 4, 3, 1, 4, 2, 2, 3, 9, 8, 4, 4, 2, 2, 9, 2, 5, 2, 8, 5, 8, 5, 4, 4, 4, 4, 4, 2, 2, 2, 4, 2, 4, 2, 4, 2, 1, 5, 4, 3, 1, 5, 5, 2, 8, 4, 2, 2, 4, 4, 1, 2, 3, 1, 2, 1, 8, 2, 4, 2, 4, 8, 4, 8, 3, 2, 2, 9, 4, 2, 4, 8, 8, 4, 1, 5, 2, 5, 8, 2, 2, 3, 1, 4, 8, 8, 1, 4, 4, 5, 5, 5, 5, 4, 2, 8, 4, 5, 2, 4, 1, 4, 5, 5, 4, 4, 8, 4, 4, 4, 8, 5, 8, 4, 7, 8, 2, 7, 5, 2, 4, 2, 2, 1, 8, 4, 12, 6, 1, 8, 4, 1, 1, 2, 32, 10, 2, 3, 4, 2, 5, 5, 4, 11, 1, 2, 8, 5, 2, 4, 2, 4, 5, 2, 5, 1, 2, 6, 4, 4, 5, 2, 5, 32, 4, 8, 8, 3, 8, 4, 1, 8, 4, 2, 5, 1, 1, 9, 5, 4, 4, 4, 5, 2, 2, 4, 8, 4, 2, 4, 1, 5, 5, 5, 1, 8, 2, 8, 3, 923, 5, 5, 4, 8, 4, 8, 4, 11, 32, 8, 4, 5, 3, 4, 8, 15, 5, 1, 4, 4, 1, 6, 2, 1, 5, 5, 2, 2, 11, 1, 2, 4, 5, 1, 2, 2, 5, 8, 3, 7, 4, 5, 10, 8, 2, 5, 5, 2, 8, 2, 1, 8, 4, 4, 1, 5, 8, 1, 5, 7, 8, 14, 2, 2, 11, 3, 8, 5, 5, 5, 8, 9, 2, 4, 5, 2, 4, 4, 2, 1, 11, 1, 4, 3, 5, 8, 4, 6, 2, 8, 8, 8, 5, 32, 1, 2, 4, 3, 4, 4, 4, 2, 4, 6, 4, 1, 4, 5, 5, 3, 1, 11, 32, 8, 5, 9, 1, 11, 4, 4, 1, 2, 4, 4, 2, 32, 2, 4, 5, 8, 4, 4, 9, 4, 3, 5, 8, 5, 2, 4, 8, 4, 11, 4, 1, 1, 4, 9, 1, 2, 2, 1, 2, 8, 7, 4, 2, 1, 1, 5, 5, 1, 2, 9, 4, 1, 1, 1, 4, 4, 4, 4, 13, 3, 4, 4, 2, 1, 10, 4, 8, 8, 10, 2, 2, 4, 8, 8, 4, 3, 8, 2, 4, 5, 8, 4, 4, 4, 6, 4, 2, 4, 1, 1, 1, 4, 5, 4, 2, 8, 4, 7, 2, 1, 2, 15, 8, 10, 8, 4, 8, 7, 1, 2, 7, 4, 8, 8, 5, 7, 5, 2, 2, 5, 2, 2, 3, 2, 4, 3, 4, 2, 4, 2, 2, 4, 8, 5, 4, 4, 4, 5, 5, 8, 1, 2, 3, 2, 4, 4, 1, 2, 1, 8, 1, 2, 2, 4, 4, 8, 3, 7, 1, 4, 4, 1, 1, 4, 2, 2, 2, 2, 6, 1, 4, 8, 2, 5, 8, 1, 4, 2, 5, 4, 5, 6, 1, 8, 4, 9, 677, 8, 5, 4, 1, 2, 3, 5, 2, 1, 4, 8, 4, 2, 3, 2, 6, 4, 2, 6, 2, 4, 8, 1, 2, 1, 2, 2, 1, 8, 11, 4, 4, 4, 1, 8, 4, 1, 8, 10, 2, 5, 4, 2, 5, 5, 4, 6, 5, 8, 1, 4, 8, 3, 2, 1, 5, 5, 1, 8, 32, 8, 4, 8, 2, 4, 4, 3, 32, 8, 8, 1, 32, 5, 1, 5, 4, 5, 2, 4, 3, 2, 1, 2, 32, 2, 8, 5, 4, 1, 7, 6, 5, 1, 2, 4, 2, 3, 6, 3, 4, 5, 4, 5, 5, 4, 4, 5, 1, 14, 4, 8, 2, 2, 4, 5, 5, 9, 5, 4, 8, 4, 5, 5, 3, 4, 2, 4, 4, 8, 2, 8, 1, 4, 2, 8, 2, 4, 1, 4, 9, 4, 2, 4, 3, 2, 5, 3, 8, 5, 5, 5, 1, 4, 1, 5, 4, 5, 2, 6, 4, 5, 8, 4, 2, 32, 1, 3, 4, 8, 1, 5, 8, 4, 4, 2, 8, 1, 8, 4, 2, 4, 1, 4, 1, 2, 2, 4, 2, 9, 4, 5, 4, 1, 1, 6, 2, 2, 3, 3, 2, 2, 1, 1, 2, 2, 4, 32, 2, 4, 8, 5, 1751, 1, 6, 5, 4, 2, 4, 2, 6, 2, 4, 2, 1, 2, 8, 5, 8, 1, 4, 2, 8, 4, 3, 4, 2, 8, 2, 9, 8, 4, 5, 1, 8, 4, 4, 1, 1, 4, 5, 2, 5, 2, 1, 4, 1, 5, 1, 4, 8, 2, 5, 3, 2, 8, 4, 8, 1, 4, 4, 8, 1, 2, 4, 8, 9, 4, 1, 2, 8, 4, 1, 5, 2, 8, 4, 2, 13, 9, 4, 9, 1, 4, 6, 8, 8, 5, 5, 5, 4, 5, 5, 1, 2, 4, 5, 2, 2, 2, 1, 4, 4, 4, 4, 6, 8, 4, 8, 7, 5, 8, 5, 4, 2, 5, 3, 7, 4, 4, 9, 2, 1, 4, 8, 4, 6, 4, 8, 8, 8, 4, 2, 7, 5, 4, 7, 1, 2, 4, 1, 4, 2, 2, 4, 4, 4, 4, 1, 10, 5, 7, 32, 5, 4, 1, 2, 8, 5, 1, 2, 4, 5, 4, 4, 5, 8, 1, 6, 4, 8, 4, 6, 4, 2, 5, 5, 1, 5, 11, 3, 4, 4, 2, 5, 2, 32, 1, 4, 5, 2, 2, 5, 5, 4, 5, 1, 1, 4, 4, 1, 4, 8, 5, 5, 4, 5, 6, 8, 2, 4, 1, 8, 4, 2, 2, 5, 4, 2, 5, 4, 4, 8, 5, 4, 4, 4, 2, 4, 8, 3, 5, 4, 2, 4, 2, 8, 4, 4, 8, 32, 9, 4, 2, 5, 4, 4, 2, 2, 4, 4, 32, 2, 4, 1, 4, 3, 8, 1, 8, 4, 6, 8, 4, 8, 1, 1, 4, 4, 8, 8, 2, 4, 10, 5, 5, 4, 1, 2, 5, 6, 2, 2, 4, 4, 4, 4, 3, 4, 1, 2, 4, 8, 2, 4, 10, 4, 4, 9, 8, 4, 4, 8, 3, 4, 8, 18401, 7, 5, 12, 9, 6, 6, 8, 3, 8, 10, 2, 7, 32, 5, 2, 4, 2, 5, 3, 4, 4, 2, 2, 2, 5, 2, 3, 1, 8, 8, 1, 4, 2, 4, 4, 2, 8, 8, 4, 4, 1, 11, 1, 8, 1, 8, 2, 2, 2, 4, 8, 4, 3, 32, 4, 1, 1, 2, 4, 6, 4, 2, 4, 3, 5, 4, 5, 14, 4, 6, 4, 4, 8, 5, 2, 4, 4, 2, 5, 1, 8, 5, 4, 1, 6, 2, 9, 2, 6, 5, 6, 8, 1, 2, 2, 2, 3, 8, 8, 6, 4, 4, 4, 1, 3, 2, 5, 2, 5, 8, 7, 4, 3, 4, 5, 5, 2, 1, 1, 4, 8, 8, 4, 4, 9, 2, 4, 4, 2, 8, 5, 2, 6, 5, 5, 5, 5, 8, 4, 4, 11, 4, 4, 2, 32, 4, 4, 1, 1, 2, 2, 7, 6, 5, 3, 2, 5, 4, 5, 2, 8, 1, 1, 2, 4, 8, 2, 6, 8, 2, 2, 3, 4, 8, 2, 5, 4, 3, 4, 4, 4, 5, 5, 2, 4, 2, 4, 5, 4, 9, 4, 1, 5, 4, 4, 1, 3, 4, 4, 4, 3, 5, 1, 4, 32, 6, 5, 8, 4, 2, 4, 2, 6, 4, 4, 2, 4, 5, 8, 8, 2, 7, 1, 8, 4, 1, 2, 4, 1, 4, 8, 4, 2, 2, 8, 4, 6, 1, 2, 2, 8, 32, 8, 4, 4, 4, 4, 8, 4, 4, 4, 2, 1, 2, 1, 2, 2, 2, 5, 2, 8, 2, 5, 13, 5, 4, 6, 4, 2, 2, 8, 6, 3, 4, 5, 4, 4, 7, 5, 4, 4, 10, 4, 5, 10, 6, 4, 2, 9, 4, 5, 8, 4, 4, 4, 4, 2, 4, 4, 4, 4, 7, 5, 5, 8, 2, 3, 9, 2, 2, 4, 4, 9, 5, 4, 5, 5, 2, 1, 4, 1, 1, 1, 4, 8, 3, 9, 4, 4, 6, 2, 2, 1, 8, 3, 1, 8, 8, 8, 4, 2, 1, 5, 4, 5, 2, 5, 8, 8, 7, 2, 4, 2, 1, 32, 1, 2, 2, 8, 2, 1, 2, 3, 1, 11, 1, 4, 2, 8, 3, 4, 4, 32, 2, 1, 5, 3, 2, 5, 1, 4, 7, 4, 9, 8, 5, 2, 1, 4, 4, 8, 9, 2, 2116, 2, 1, 4, 4, 2, 2, 2, 4, 4, 4, 2, 32, 4, 4, 4, 3, 4, 4, 6, 2, 10, 5, 8, 8, 5, 4, 2, 4, 8, 2, 4, 3, 5, 5, 3, 2, 2, 2, 4, 8, 1, 5, 9, 1, 8, 20, 2, 4, 1, 5, 2, 8, 2, 4, 6, 6, 2, 2, 5, 10, 6, 2, 6, 2, 4, 8, 5, 2, 5, 1, 3, 5, 2, 6, 2, 1, 4, 2, 6, 2, 1, 4, 2, 6, 9, 6, 4, 2, 4, 2, 2, 6, 5, 4, 8, 4, 5, 8, 2, 1, 8, 5, 1, 2, 4, 4, 1, 4, 8, 5, 2, 8, 2, 1, 3, 10, 8, 4, 4, 7, 4, 5, 4, 4, 4, 4, 5, 1, 2, 1, 8, 5, 8, 4, 4, 1, 4, 15, 2, 5, 5, 4, 1, 3, 3, 2, 4, 2, 1, 4, 1, 4, 2, 2, 4, 5, 4, 5, 8, 1, 3, 5, 1, 6, 5, 1, 15, 4, 1, 6, 1, 5, 4, 8, 2, 32, 4, 2, 4, 8, 3, 2, 4, 3, 8, 5, 1, 4, 1, 8, 5, 3, 1, 2, 4, 4, 4, 5, 1, 2, 2, 8, 4, 4, 8, 5, 2, 1, 10, 1, 5, 5, 32, 4, 8, 8, 4, 1, 4, 10, 8, 2, 2, 2, 1, 32, 5, 4, 5, 2, 8, 4, 2, 4, 1, 2, 4, 3, 5, 5, 8, 2, 2, 4, 2, 5, 4, 2, 8, 1, 5, 4, 4, 4, 8, 5, 4, 4, 2, 2, 4, 4, 6, 5, 2, 2, 6, 8, 10, 4, 2, 2, 8, 4, 4, 4, 5, 8, 6, 1, 3, 8, 8, 5, 4, 10, 1, 2, 5, 4, 2, 2, 5, 2, 1, 2, 5, 1, 1, 5, 4, 1, 2, 1, 4, 3, 9, 2, 6, 2, 8, 9, 1, 4, 1, 2, 3, 3, 9, 4, 1, 8, 32, 6, 5, 8, 2, 8, 4, 4, 4, 4, 2, 1, 4, 4, 32, 4, 4, 6, 4, 2, 1, 2, 5, 5, 5, 4, 8, 2, 2, 4, 3, 7, 2, 5, 8, 4, 8, 3, 6, 1, 2, 5, 2, 8, 2, 1, 2, 2, 4, 2, 2, 5, 2, 5, 7, 5, 11, 1, 4, 6, 4, 5, 5, 1, 7, 4, 3, 4, 8, 4, 5, 4, 5, 9, 2, 32, 5, 32, 8, 5, 4, 6, 8, 4, 5, 4, 11, 4, 5, 6, 4, 2, 2, 8, 1, 9, 4, 5, 2, 2, 4, 2, 5, 4, 6, 1, 1, 2, 2, 8, 5, 4, 8, 3, 4, 4, 5, 4, 2, 2, 2, 4, 4, 4, 2, 4, 1, 7, 8, 4, 1, 4, 2, 3, 2, 4, 8, 5, 2, 8, 5, 2, 1, 4, 3, 4, 8, 8, 2, 3, 2, 13, 5, 2, 4, 2, 8, 8, 2, 5, 8, 7, 4, 4, 8, 4, 4, 32, 2, 4, 2, 2, 8, 5, 9, 8, 1, 8, 5, 2, 6, 4, 3, 2, 4, 8, 8, 5, 2, 2, 4, 5, 5, 4, 3, 2, 6, 14, 2, 1, 4, 3, 4, 4, 5, 2, 4, 1, 28, 2, 9, 2, 8, 4, 7, 7, 8, 4, 10, 6, 5, 4, 4, 4, 3, 3, 2, 2, 4, 2, 1, 1, 3, 4, 1, 2, 4, 2, 5, 4, 2, 9, 1, 4, 2, 2, 7, 2, 2, 8, 10, 4, 4, 5, 8, 2, 4, 6, 2, 5, 2, 9, 2, 8, 2, 1, 1, 4, 4, 8, 2, 32, 5, 4, 2, 2, 2, 3, 4, 8, 4, 5, 8, 4, 8, 5, 9, 2, 8, 4, 4, 4, 9, 4, 8, 4, 5, 1, 6, 1, 8, 8, 8, 10, 5, 8, 7, 1, 2, 4, 4, 1, 5, 5, 4, 8, 3, 1, 32, 8, 11, 2, 1, 2, 4, 4, 1, 2, 2, 1, 8, 2, 4, 5, 4, 6, 5, 2, 9, 6, 4, 4, 9, 5, 3, 4, 8, 8, 2, 1, 1, 1, 32, 2, 4, 1, 4, 5, 4, 5, 4, 32, 1, 2, 5, 8, 1, 3, 6, 2, 1, 9, 2, 4, 2, 8, 8, 4, 5, 3, 4, 2, 8, 8, 8, 4, 5, 2, 4, 2, 4, 7, 6, 4, 10, 2, 4, 4, 2, 4, 2, 1, 9, 4, 5, 4, 4, 4, 3, 3, 4, 4, 2, 4, 1, 3, 2, 1, 2, 8, 8, 3, 5, 4, 5, 5, 8, 6, 2, 5, 5, 10, 2, 2, 8, 5, 4, 2, 4, 2, 8, 2, 4, 4, 4, 4, 10, 2, 1, 5, 8, 4, 8, 2, 14, 2, 8, 2, 4, 4, 2, 2, 15, 2, 4, 4, 4, 8, 5, 6, 9, 2, 8, 1, 8, 2, 2, 5, 5, 2, 10, 4, 2, 10, 1, 8, 5, 1, 7, 6, 1, 8, 5, 8, 2, 2, 2, 2, 8, 2, 4, 1, 4, 4, 1, 8, 5, 7, 4, 2, 3, 8, 8, 5, 4, 2, 3, 1, 2, 7, 4, 2, 2, 4, 4, 5, 1, 2, 15, 8, 5, 4, 2, 4, 2, 2, 4, 2, 4, 4, 2, 4, 9, 4, 6, 4, 2, 2, 1, 4, 5, 4, 5, 5, 1, 3, 12, 2, 8, 1, 8, 2, 2, 2, 2, 4, 4, 4, 4, 4, 1, 8, 4, 2, 1, 5, 8, 4, 4, 5, 1, 4, 5, 10, 8, 2, 1, 5, 4, 8, 2, 32, 4, 5, 8, 1, 2, 3, 2, 4, 3, 7, 1, 1, 2, 8, 2, 2, 5, 2, 3, 5, 4, 4, 5, 4, 2, 9, 6, 4, 4, 4, 5, 3, 2, 5, 4, 2, 5, 5, 3, 8, 2, 8, 2, 6, 8, 4, 4, 1, 8, 8, 1, 2, 6, 4, 8, 5, 5, 1, 2, 5, 2, 4, 1, 8, 3, 2, 5, 4, 8, 8, 1, 6, 4, 6, 4, 5, 4, 4, 6, 5, 2, 1, 6, 4, 9, 4, 2, 4, 1, 32, 4, 5, 5, 5, 1, 4, 6, 10, 5, 9, 2, 8, 4, 4, 8, 5, 5, 5, 2, 4, 4, 8, 1, 2, 6, 4, 2, 4, 8, 4, 6, 4, 2, 2, 4, 1, 6, 2, 32, 5, 32, 8, 2, 5, 2, 1, 1, 1, 2, 4, 9, 1, 2, 4, 2, 6, 2, 5, 8, 2, 14, 4, 2, 4, 4, 10, 4, 2, 8, 8, 11, 2, 1, 2, 8, 6, 2, 4, 4, 4, 8, 8, 1, 5, 2, 5, 2, 2, 5, 11, 14, 7, 6, 4, 5, 1, 9, 1, 1, 4, 5, 5, 2, 8, 4, 4, 8, 2, 5, 3, 4, 6, 1, 2, 2, 6, 4, 8, 3, 2, 2, 2, 4, 2, 2, 4, 2, 2, 5, 8, 2, 2, 7, 3, 2, 2, 4, 12, 4, 8, 1, 8, 1, 5, 2, 4, 5, 4, 5, 1, 4, 2, 4, 1, 8, 4, 4, 7, 4, 4, 9, 2, 8, 4, 1, 2, 3, 2, 2, 9, 3, 4, 8, 3, 1, 3, 2, 4, 2, 7, 1, 2, 2, 4, 1, 1, 8, 4, 1, 1, 2, 2, 6, 7, 4, 5, 8, 8, 8, 5, 8, 3, 1, 7, 4, 3, 2, 2, 6, 4, 4, 4, 5, 4, 1, 3, 4, 8, 5, 4, 5, 6, 8, 5, 2, 2, 2, 4, 4, 4, 2, 2, 1, 5, 8, 8, 4, 6, 2, 2, 8, 4, 4, 1, 28, 4, 4, 3, 2, 5, 32, 4, 6, 9, 4, 8, 4, 2, 4, 4, 1, 4, 4, 7, 4, 5, 2, 1, 5, 5, 17, 5, 4, 1, 4, 1, 2, 4, 4, 5, 8, 1, 1, 4, 4, 4, 4, 5, 4, 1, 1, 8, 10, 8, 8, 8, 3, 7, 5, 1, 32, 2, 2, 5, 4, 5, 7, 4, 1, 1, 1, 8, 4, 4, 5, 9, 1, 5, 8, 5, 8, 5, 2, 2, 6, 8, 2, 4, 5, 4, 4, 1, 8, 5, 1, 2, 4, 1, 4, 8, 4, 1, 4, 1, 2, 4, 4, 5, 32, 4, 8, 7, 6, 5, 32, 1, 8, 2, 2, 9, 5, 2, 14, 5, 6, 4, 8, 4, 4, 8, 2, 4, 4, 8, 8, 7, 32, 3, 4, 2, 4, 8, 6, 6, 5, 4, 2, 3, 4, 4, 2, 2, 5, 1, 4, 5, 10, 32, 2, 4, 6, 3, 4, 5, 4, 5, 2, 2, 8, 2, 2, 8, 8, 8, 6, 1, 4, 4, 4, 1145, 9, 5, 4, 4, 1, 8, 2, 5, 5, 5, 4, 1, 4, 4, 4, 5, 2, 5, 3, 5, 8, 6, 4, 2, 8, 2, 4, 4, 2, 6, 4, 1, 5, 5, 8, 1, 4, 5, 4, 5, 5, 7, 4, 8, 5, 4, 2, 1, 4, 4, 2, 8, 4, 2, 4, 2, 7, 1, 7, 2, 1, 8, 2, 2, 4, 1, 2, 4, 5, 4, 1, 1, 2, 2, 1, 32, 4, 4, 5, 1, 4, 4, 1, 4, 2, 8, 2, 16, 8, 1, 8, 8, 1, 3, 4, 2, 1, 8, 3, 4, 9, 5, 1, 4, 4, 4, 2, 5, 1, 2, 5, 5, 6, 2, 12, 1, 6, 4, 8, 4, 4, 1, 4, 1, 9, 4, 1, 2, 8, 2, 8, 4, 5, 4, 3, 8, 5, 8, 2, 2, 8, 5, 11, 4, 1, 4, 5, 6, 4, 2, 1, 2, 2, 8, 4, 10, 1, 10, 8, 1, 4, 4, 5, 4, 4, 1, 4, 5, 2, 4, 8, 8, 4, 8, 1, 1, 4, 2, 11, 4, 4, 4, 4, 2, 5, 4, 1, 8, 3, 5, 4, 5, 4, 8, 4, 1, 5, 6, 5, 4, 8, 4, 8, 3, 3, 5, 4, 4, 8, 1, 7, 1, 6, 1, 3, 8, 1, 6, 2, 1, 1, 4, 2, 4, 1, 4, 1, 2, 1, 5, 1, 4, 4, 5, 2, 4, 1, 3, 4, 2, 3, 5, 32, 4, 2, 4, 4, 8, 1, 8, 9, 2, 2, 4, 4, 4, 1, 1, 4, 32, 2, 8, 5, 8, 4, 4, 8, 4, 32, 4, 2, 1, 4, 4, 8, 4, 8, 32, 2, 8, 1, 4, 4, 2, 5, 8, 1, 2, 4, 5, 4, 2, 2, 2, 6, 5, 1, 2, 4, 2, 5, 5, 2, 2, 8, 1, 1, 8, 1, 2, 6, 5, 1, 2, 2, 5, 4, 5, 1, 1, 5, 2, 4, 8, 5, 4, 2, 2, 8, 1, 2, 5, 1, 4, 1, 11, 4, 2, 9, 4, 1, 8, 2, 7, 2, 3, 1, 2, 8, 1, 2, 5, 6, 4, 4, 2, 2, 1, 4, 6, 39, 3, 3, 4, 5, 4, 5, 5, 2, 2, 5, 2, 2, 8, 7, 8, 10, 4, 4, 4, 2, 3, 7, 4, 6, 4, 1, 5, 5, 4, 4, 8, 6, 3, 4, 3, 8, 6, 4, 4, 8, 8, 4, 3, 7, 8, 2, 1, 4, 5, 2, 1, 5, 2, 4, 8, 4, 5, 2, 8, 1, 4, 2, 2, 3, 2, 2, 2, 11, 5, 5, 9, 3, 3, 2, 5, 5, 5, 32, 8, 2, 32, 5, 11, 4, 2, 2, 4, 1, 4, 14, 1, 5, 8, 2, 1, 8, 4, 8, 6, 2, 1, 4, 2, 32, 5, 2, 4, 4, 1, 8, 4, 4, 2, 4, 4, 7, 1, 4, 4, 9, 8, 2, 8, 4, 4, 8, 2, 2, 5, 8, 4, 8, 8, 4, 3, 2, 2, 1, 6, 8, 4, 4, 8, 2, 1, 5, 1, 4, 8, 14, 6, 2, 8, 8, 1, 9, 4, 2, 7, 2, 2, 2, 8, 8, 4, 5, 5, 8, 5, 2, 32, 3, 11, 4, 2, 8, 1, 5, 4, 8, 5, 8, 5, 2, 2, 7, 5, 1, 9, 8, 5, 4, 1, 5, 4, 1, 5, 8, 4, 9, 5, 3, 5, 8, 3, 2, 6, 4, 3, 2, 2, 4, 11, 8, 1, 4, 2, 4, 6, 5, 4, 2, 2, 6, 2, 2, 3, 3, 5, 5, 3, 3, 5, 2, 3, 2, 3, 5, 3, 3, 3, 2, 3, 1, 2, 2, 2, 2, 2, 3, 2, 3, 3, 3, 3, 5, 3, 2, 2, 5, 3, 5, 2, 5, 3, 5, 2, 3, 3, 3, 3, 2, 5, 3, 5, 3, 2, 3, 3, 3, 2, 5, 2, 1, 2, 3, 5, 1, 2, 2, 2, 5, 2, 2, 2, 1, 2, 6, 6, 2, 5, 2, 2, 2, 5, 2, 2, 2, 2, 5, 2, 2, 6, 2, 2, 6, 2, 1, 1, 5, 2, 5, 2, 2, 2, 2, 2, 5, 1, 2, 2, 2, 2, 2, 2, 2, 2, 2, 2, 2, 5, 1, 1, 2, 1, 2, 2, 2, 2, 6, 2, 2, 2, 2, 2, 2, 6, 3, 2, 2, 2, 5, 3, 3, 2, 2, 6, 2, 5, 1, 1, 3, 2, 2, 2, 5, 2, 2, 2, 2, 2, 2, 1, 2, 2, 7, 1, 5, 1, 2, 1, 1, 1, 1, 2, 5, 5, 2, 3, 5, 1, 2, 2, 6, 2, 2, 5, 2, 2, 1, 3, 2, 2, 2, 2, 5, 2, 3, 2, 2, 2, 2, 2, 2, 2, 6, 15, 2, 1, 2, 2, 2, 1, 15, 2, 7, 2, 2, 3, 3, 5, 3, 2, 2, 2, 3, 6, 2, 1, 1, 7, 2, 2, 2, 2, 2, 5, 2, 5, 2, 2, 2, 1, 2, 5, 2, 6, 2, 3, 2, 2, 2, 2, 1, 5, 2, 1, 2, 3, 1, 2, 2, 2, 2, 2, 2, 7, 7, 2, 2, 2, 2, 2, 7, 1, 5, 2, 2, 3, 2, 2, 2, 2, 5, 5, 2, 2, 2, 2, 2, 2, 7, 2, 2, 2, 2, 2, 2, 2, 6, 2, 2, 2, 1, 2, 2, 2, 2, 2, 2, 2, 2, 2, 2, 2, 2, 5, 2, 2, 2, 3, 5, 2, 3, 2, 3, 5, 2, 2, 5, 2, 1, 2, 5, 2, 5, 2, 3, 3, 1, 2, 2, 2, 2, 2, 2, 2, 1, 3, 6, 2, 2, 5, 2, 2, 5, 6, 3, 2, 5, 2, 2, 7, 2, 5, 2, 5, 2, 2, 2, 2, 15, 2, 5, 2, 1, 3, 6, 2, 3, 15, 1, 15, 2, 2, 2, 3, 2, 2, 2, 2, 2, 6, 2, 2, 2, 2, 2, 1, 2, 5, 2, 2, 2, 1, 2, 2, 2, 2, 5, 1, 1, 5, 2, 2, 3, 7, 2, 5, 3, 2, 2, 2, 2, 2, 5, 1, 7, 6, 5, 2, 3, 2, 5, 2, 2, 2, 5, 1, 2, 2, 2, 2, 2, 2, 2, 5, 2, 2, 5, 15, 1, 5, 2, 2, 2, 2, 5, 3, 2, 2, 2, 3, 2, 7, 2, 2, 1, 2, 3, 2, 2, 5, 2, 3, 2, 2, 2, 2, 1, 2, 2, 1, 5, 1, 15, 2, 2, 2, 2, 6, 2, 2, 2, 5, 2, 2, 1, 2, 5, 1, 3, 5, 2, 3, 2, 1, 2, 5, 3, 5, 3, 3, 5, 6, 2, 2, 2, 2, 6, 5, 2, 1, 1, 2, 2, 3, 3, 1, 3, 2, 2, 1, 2, 5, 5, 2, 2, 5, 1, 2, 2, 2, 2, 2, 2, 6, 5, 1, 3, 2, 3, 5, 2, 4, 2, 3, 2, 3, 2, 1, 15, 3, 2, 2, 2, 2, 5, 2, 2, 15, 2, 5, 7, 5, 1, 4, 2, 3, 2, 2, 2, 2, 2, 2, 2, 2, 2, 2, 2, 15, 5, 2, 5, 2, 6, 2, 2, 2, 3, 1, 3, 2, 2, 2, 3, 7, 2, 6, 7, 15, 2, 3, 2, 5, 1, 5, 2, 6, 2, 5, 2, 2, 2, 2, 5, 2, 4, 15, 2, 3, 3, 2, 2, 3, 15, 1, 2, 2, 2, 1, 2, 2, 2, 5, 5, 6, 2, 1, 2, 2, 5, 3, 2, 2, 6, 2, 5, 2, 2, 2, 2, 5, 2, 2, 1, 2, 5, 3, 2, 2, 2, 3, 5, 2, 1, 5, 4, 3, 2, 2, 2, 2, 2, 2, 6, 5, 2, 8, 2, 1, 2, 2, 1, 2, 1, 2, 5, 2, 3, 3, 2, 2, 6, 2, 2, 5, 2, 2, 5, 2, 2, 2, 2, 2, 1, 2, 2, 2, 2, 2, 7, 6, 1, 1, 2, 2, 2, 2, 6, 2, 1, 2, 8, 2, 2, 2, 2, 2, 1, 6, 2, 2, 1, 3, 6, 1, 2, 5, 1, 3, 15, 2, 2, 2, 2, 2, 2, 1, 2, 5, 7, 2, 2, 2, 2, 3, 2, 5, 1, 2, 3, 2, 2, 2, 2, 2, 2, 3, 2, 3, 2, 2, 5, 2, 2, 2, 2, 2, 3, 2, 2, 2, 2, 3, 2, 3, 1, 2, 4, 2, 1, 2, 2, 2, 2, 2, 3, 2, 2, 2, 3, 2, 1, 5, 3, 2, 6, 3, 1, 2, 3, 2, 2, 3, 2, 5, 1, 3, 2, 2, 1, 2, 2, 2, 3, 2, 2, 2, 2, 15, 1, 2, 2, 5, 2, 2, 2, 2, 3, 2, 2, 2, 15, 2, 3, 2, 2, 3, 3, 6, 2, 1, 2, 2, 2, 5, 2, 2, 2, 2, 5, 6, 3, 5, 2, 2, 15, 6, 2, 2, 2, 2, 2, 15, 5, 5, 1, 2, 2, 1, 2, 2, 3, 1, 2, 5, 2, 2, 3, 5, 2, 2, 2, 3, 2, 2, 4, 6, 2, 4, 2, 5, 2, 1, 2, 5, 2, 2, 2, 2, 3, 3, 2, 2, 2, 2, 2, 2, 5, 5, 2, 3, 2, 2, 2, 5, 2, 2, 2, 2, 5, 2, 1, 5, 1, 1, 2, 5, 3, 6, 15, 1, 2, 1, 2, 6, 2, 2, 15, 2, 1, 2, 2, 4, 1, 2, 5, 2, 2, 2, 4, 2, 2, 3, 2, 5, 2, 2, 15, 2, 3, 1, 2, 2, 1, 2, 3, 2, 3, 2, 2, 3, 15, 1, 1, 5, 2, 2, 2, 3, 2, 2, 1, 1, 2, 1, 3, 3, 2, 2, 2, 3, 3, 5, 2, 5, 5, 2, 5, 2, 3, 3, 3, 2, 2, 5, 3, 2, 2, 2, 2, 2, 2, 2, 1, 6, 2, 2, 2, 2, 2, 2, 2, 3, 2, 6, 3, 2, 2, 2, 2, 2, 3, 5, 2, 2, 2, 2, 3, 6, 2, 6, 2, 2, 2, 2, 2, 1, 1, 2, 2, 2, 5, 3, 2, 2, 2, 2, 2, 7, 3, 2, 5, 2, 2, 2, 2, 2, 2, 3, 5, 2, 2, 3, 3, 2, 2, 5, 2, 1, 7, 4, 2, 2, 3, 1, 2, 2, 3, 2, 2, 7, 6, 2, 6, 2, 2, 2, 3, 2, 2, 2, 7, 2, 5, 1, 2, 2, 3, 7, 3, 2, 2, 2, 1, 2, 2, 2, 5, 2, 2, 2, 2, 2, 2, 2, 6, 2, 2, 2, 2, 2, 2, 5, 3, 3, 5, 15, 5, 2, 2, 5, 2, 2, 3, 2, 2, 5, 7, 2, 2, 1, 1, 2, 2, 2, 2, 3, 2, 2, 3, 2, 2, 5, 15, 6, 1, 1, 6, 6, 2, 5, 2, 5, 2, 7, 2, 3, 7, 2, 2, 6, 5, 6, 2, 3, 6, 2, 2, 3, 2, 2, 1, 2, 1, 3, 5, 2, 2, 2, 2, 2, 2, 3, 2, 2, 5, 2, 1, 2, 2, 7, 2, 3, 2, 2, 2, 3, 2, 6, 5, 2, 1, 2, 2, 2, 7, 2, 2, 2, 2, 2, 2, 2, 2, 5, 2, 15, 2, 2, 2, 2, 2, 2, 5, 5, 2, 2, 2, 2, 2, 2, 2, 2, 15, 1, 2, 2, 15, 4, 2, 2, 7, 6, 2, 2, 2, 2, 1, 2, 5, 5, 2, 5, 2, 2, 2, 2, 2, 2, 2, 2, 2, 2, 3, 3, 3, 2, 5, 2, 5, 2, 2, 2, 7, 2, 3, 6, 5, 5, 2, 1, 5, 2, 7, 3, 2, 1, 2, 3, 2, 2, 1, 3, 2, 2, 2, 1, 2, 2, 2, 5, 3, 2, 2, 2, 2, 2, 5, 2, 2, 2, 5, 1, 2, 5, 1, 2, 2, 2, 2, 2, 2, 2, 2, 2, 2, 5, 2, 5, 15, 2, 2, 2, 3, 1, 3, 3, 5, 3, 2, 6, 1, 2, 2, 5, 2, 2, 2, 1, 2, 2, 3, 5, 2, 2, 2, 2, 2, 2, 2, 2, 5, 3, 1, 2, 2, 5, 2, 2, 2, 3, 2, 5, 2, 1, 5, 2, 2, 5, 2, 15, 5, 3, 5, 2, 2, 2, 1, 2, 3, 1, 2, 2, 2, 2, 2, 2, 3, 2, 2, 5, 3, 1, 3, 3, 2, 2, 1, 7, 2, 2, 1, 2, 2, 2, 5, 15, 1, 6, 2, 2, 3, 2, 2, 2, 2, 2, 2, 5, 15, 2, 3, 2, 1, 3, 5, 2, 2, 2, 2, 2, 7, 2, 6, 3, 2, 3, 2, 2, 3, 2, 1, 2, 2, 1, 2, 2, 5, 5, 7, 3, 7, 2, 3, 3, 2, 2, 3, 2, 2, 2, 5, 2, 2, 3, 2, 2, 5, 6, 2, 1, 2, 2, 2, 1, 1, 15, 5, 2, 2, 2, 2, 2, 2, 2, 2, 2, 5, 2, 5, 5, 1, 1, 1, 7, 2, 6, 2, 7, 2, 2, 2, 2, 1, 1, 7, 2, 2, 2, 1, 2, 2, 2, 3, 2, 2, 2, 2, 2, 2, 2, 5, 2, 3, 2, 2, 2, 2, 2, 3, 2, 3, 5, 2, 6, 15, 2, 3, 2, 3, 2, 2, 3, 2, 2, 2, 2, 3, 5, 6, 5, 1, 2, 2, 2, 2, 2, 3, 5, 5, 2, 2, 1, 2, 2, 6, 5, 3, 2, 15, 2, 2, 2, 2, 2, 3, 5, 3, 2, 2, 2, 5, 4, 2, 2, 3, 1, 2, 1, 2, 5, 2, 1, 3, 1, 2, 2, 2, 2, 6, 5, 2, 5, 3, 5, 2, 2, 2, 2, 2, 2, 2, 2, 3, 1, 2, 2, 1, 2, 2, 3, 1, 1, 3, 2, 5, 2, 2, 2, 5, 2, 3, 3, 6, 2, 4, 2, 2, 2, 3, 2, 15, 3, 3, 3, 2, 2, 2, 3, 2, 2, 1, 5, 2, 2, 2, 2, 2, 2, 2, 2, 2, 2, 5, 3, 2, 5, 1, 1, 2, 2, 6, 3, 2, 5, 15, 15, 2, 5, 1, 1, 7, 6, 2, 2, 2, 2, 2, 2, 15, 2, 2, 5, 2, 1, 2, 2, 2, 2, 3, 2, 2, 2, 2, 2, 2, 2, 15, 2, 2, 2, 2, 2, 3, 5, 2, 5, 5, 2, 2, 5, 2, 3, 1, 2, 2, 1, 3, 1, 1, 6, 2, 1, 6, 2, 2, 2, 3, 2, 5, 2, 3, 2, 2, 2, 5, 3, 2, 2, 2, 1, 2, 1, 6, 2, 2, 5, 15, 3, 2, 1, 4, 2, 5, 5, 2, 4, 2, 3, 2, 2, 2, 2, 2, 5, 2, 2, 15, 3, 15, 2, 1, 5, 1, 1, 1, 3, 2, 2, 5, 2, 3, 5, 5, 2, 5, 2, 1, 5, 1, 2, 2, 2, 2, 7, 2, 2, 3, 6, 6, 5, 2, 2, 2, 15, 5, 2, 2, 2, 2, 2, 3, 2, 2, 2, 2, 3, 2, 5, 5, 2, 5, 2, 3, 2, 2, 2, 7, 2, 2, 2, 2, 2, 5, 2, 7, 2, 2, 3, 2, 2, 2, 2, 3, 2, 15, 2, 5, 3, 5, 2, 1, 2, 2, 2, 2, 2, 2, 1, 1, 2, 2, 3, 2, 2, 2, 2, 2, 1, 2, 2, 3, 5, 2, 2, 2, 1, 2, 2, 5, 5, 3, 1, 3, 2, 2, 3, 3, 6, 2, 2, 2, 2, 2, 5, 5, 5, 2, 2, 2, 5, 2, 2, 5, 6, 2, 2, 2, 6, 1, 2, 7, 2, 2, 5, 2, 2, 2, 2, 2, 5, 5, 3, 1, 2, 1, 3, 3, 2, 2, 2, 2, 2, 4, 3, 2, 5, 3, 1, 2, 2, 2, 2, 2, 2, 2, 2, 2, 15, 2, 2, 6, 6, 2, 2, 2, 2, 5, 2, 2, 2, 2, 6, 2, 2, 5, 5, 2, 2, 2, 1, 2, 1, 2, 2, 2, 6, 7, 2, 2, 2, 5, 5, 3, 3, 1, 2, 5, 2, 1, 1, 2, 1, 2, 5, 5, 2, 5, 2, 2, 2, 3, 3, 5, 1, 7, 8, 5, 2, 6, 2, 15, 2, 2, 1, 2, 2, 2, 2, 2, 2, 3, 2, 3, 2, 6, 2, 7, 2, 2, 5, 2, 2, 2, 2, 2, 2, 3, 1, 1, 15, 2, 2, 2, 5, 1, 2, 2, 6, 2, 2, 2, 2, 3, 2, 6, 2, 2, 2, 2, 2, 2, 1, 2, 2, 1, 2, 2, 2, 5, 2, 6, 2, 2, 2, 1, 2, 2, 8, 15, 2, 2, 3, 2, 1, 3, 2, 2, 5, 2, 2, 4, 2, 1, 1, 2, 2, 2, 1, 5, 2, 2, 3, 2, 1, 2, 5, 2, 2, 2, 2, 2, 2, 2, 3, 2, 2, 2, 5, 2, 1, 2, 2]\n"
     ]
    }
   ],
   "source": [
    "print(xs2) # One issue is that \"most\" of the allocations are small, presumably short lived.\n",
    "# Then the std-dev is really moved by some rare large allocations."
   ]
  },
  {
   "cell_type": "code",
   "execution_count": 91,
   "id": "89403c08",
   "metadata": {},
   "outputs": [
    {
     "data": {
      "text/plain": [
       "[{'total_count': 5,\n",
       "  'mean': 26787.2,\n",
       "  'variance': 2416038013.3599997,\n",
       "  'standard_deviation': 49153.2095936776,\n",
       "  'max': 125004},\n",
       " {'total_count': 5,\n",
       "  'mean': 4818.0,\n",
       "  'variance': 46368798.4,\n",
       "  'standard_deviation': 6809.463884917814,\n",
       "  'max': 18401}]"
      ]
     },
     "execution_count": 91,
     "metadata": {},
     "output_type": "execute_result"
    }
   ],
   "source": [
    "xs3 = [ alloc for alloc in xs2 if alloc > 256] # allocs > 256 words\n",
    "xs3 # [125004, 380, 6250, 1379, 923, 677, 1751, 18401, 2116, 1145]\n",
    "compute_stats_for_sublists(xs3,2)\n",
    "# irmin-replay.ctf: [{'total_count': 5,\n",
    "#   'mean': 26787.2,\n",
    "#   'variance': 2416038013.3599997,\n",
    "#   'standard_deviation': 49153.2095936776,\n",
    "#   'max': 125004},\n",
    "#  {'total_count': 5,\n",
    "#   'mean': 4818.0,\n",
    "#   'variance': 46368798.4,\n",
    "#   'standard_deviation': 6809.463884917814,\n",
    "#   'max': 18401}]"
   ]
  },
  {
   "cell_type": "code",
   "execution_count": 93,
   "id": "3b89a008",
   "metadata": {},
   "outputs": [
    {
     "data": {
      "text/plain": [
       "[1, 3, 0, 1, 1, 4, 0, 1, 0, 1]"
      ]
     },
     "execution_count": 93,
     "metadata": {},
     "output_type": "execute_result"
    }
   ],
   "source": [
    "# One thing we could do is count the number of \"large\" allocs in each part of the trace\n",
    "# allocs is a list of allocation sizes; n is the number of parts \n",
    "# NOTE this ignores the actual size of each large allocation, and similarly treats all\n",
    "# small allocations as equals\n",
    "def count_large_allocs(allocs,n):\n",
    "    len_part = int(math.ceil(len(allocs)/n))\n",
    "    parts = [ allocs[i:i+len_part] for i in range(0,len(allocs),len_part) ]\n",
    "    counts = [ len([x for x in part if x > 256]) for part in parts]\n",
    "    return counts\n",
    "\n",
    "count_large_allocs(xs,10)\n",
    "# irmin-replay.ctf, parts = 10: [1, 3, 0, 1, 1, 4, 0, 1, 0, 1]\n",
    "# It tells us something (6th part of trace has 4 large allocations!), but it would be nice\n",
    "# to have a 2-phase trace, where allocation behaviour changed, and see if this approach \n",
    "# gives us a sensible signal\n",
    "    "
   ]
  },
  {
   "cell_type": "code",
   "execution_count": null,
   "id": "1a09d247",
   "metadata": {},
   "outputs": [],
   "source": []
  }
 ],
 "metadata": {
  "celltoolbar": "Raw Cell Format",
  "kernelspec": {
   "display_name": "Python 3 (ipykernel)",
   "language": "python",
   "name": "python3"
  },
  "language_info": {
   "codemirror_mode": {
    "name": "ipython",
    "version": 3
   },
   "file_extension": ".py",
   "mimetype": "text/x-python",
   "name": "python",
   "nbconvert_exporter": "python",
   "pygments_lexer": "ipython3",
   "version": "3.8.10"
  }
 },
 "nbformat": 4,
 "nbformat_minor": 5
}
